{
  "nbformat": 4,
  "nbformat_minor": 0,
  "metadata": {
    "colab": {
      "name": "mesonet_demo_colab.ipynb",
      "provenance": [],
      "collapsed_sections": [],
      "mount_file_id": "14ZoP1l75j5tW8fJx4kMu42FA4t2Jq0l0",
      "authorship_tag": "ABX9TyNL1DX8imX5uAZ5uKNY2xXo",
      "include_colab_link": true
    },
    "kernelspec": {
      "name": "python3",
      "display_name": "Python 3"
    },
    "accelerator": "GPU"
  },
  "cells": [
    {
      "cell_type": "markdown",
      "metadata": {
        "id": "view-in-github",
        "colab_type": "text"
      },
      "source": [
        "<a href=\"https://colab.research.google.com/github/bf777/MesoNet/blob/master/mesonet_demo_colab.ipynb\" target=\"_parent\"><img src=\"https://colab.research.google.com/assets/colab-badge.svg\" alt=\"Open In Colab\"/></a>"
      ]
    },
    {
      "cell_type": "markdown",
      "metadata": {
        "id": "tBeYLFh1y43a"
      },
      "source": [
        "# MesoNet\n",
        "Welcome to MesoNet, a toolbox for segmenting mesoscale calcium images! This notebook will take you through all the steps needed to process your own calcium imaging dataset using our models."
      ]
    },
    {
      "cell_type": "code",
      "metadata": {
        "id": "4ySs_sMAzwMo",
        "outputId": "61ec5f53-3555-4bef-f65d-e30ef070d7a4",
        "colab": {
          "base_uri": "https://localhost:8080/"
        }
      },
      "source": [
        "# Clone MesoNet repository\n",
        "!git clone https://github.com/bf777/MesoNet.git"
      ],
      "execution_count": 1,
      "outputs": [
        {
          "output_type": "stream",
          "text": [
            "Cloning into 'MesoNet'...\n",
            "remote: Enumerating objects: 1080, done.\u001b[K\n",
            "remote: Counting objects: 100% (533/533), done.\u001b[K\n",
            "remote: Compressing objects: 100% (400/400), done.\u001b[K\n",
            "remote: Total 1080 (delta 305), reused 335 (delta 127), pack-reused 547\u001b[K\n",
            "Receiving objects: 100% (1080/1080), 7.06 MiB | 35.98 MiB/s, done.\n",
            "Resolving deltas: 100% (689/689), done.\n"
          ],
          "name": "stdout"
        }
      ]
    },
    {
      "cell_type": "markdown",
      "metadata": {
        "id": "UWqA1QrmVu5U"
      },
      "source": [
        "# Prepare inputs"
      ]
    },
    {
      "cell_type": "code",
      "metadata": {
        "id": "utG7t2c7JTqv"
      },
      "source": [
        "!mkdir /content/mesonet_inputs/\n",
        "!mkdir /content/mesonet_inputs/pipeline1_2/"
      ],
      "execution_count": 2,
      "outputs": []
    },
    {
      "cell_type": "code",
      "metadata": {
        "id": "tgL7qiElE8O8",
        "outputId": "f006ce69-20ff-4137-bd73-ab3cf930b8d5",
        "colab": {
          "base_uri": "https://localhost:8080/"
        }
      },
      "source": [
        "%cd MesoNet/"
      ],
      "execution_count": 3,
      "outputs": [
        {
          "output_type": "stream",
          "text": [
            "/content/MesoNet\n"
          ],
          "name": "stdout"
        }
      ]
    },
    {
      "cell_type": "code",
      "metadata": {
        "id": "Xcmr-pE1yR75",
        "outputId": "86361cbf-ada0-4913-f449-37a5edc3fde5",
        "colab": {
          "base_uri": "https://localhost:8080/",
          "height": 1000
        }
      },
      "source": [
        "# Utility to install mesonet package and associated requirements (will be replaced with pip later)\n",
        "!pip install matplotlib==3.1.3\n",
        "\n",
        "# Install DeepLabCut for pose estimation\n",
        "!pip install deeplabcut\n",
        "\n",
        "# Install MesoNet\n",
        "!python setup.py install\n",
        "\n",
        "# Reinstall OpenCV to address compatibility issue\n",
        "!pip install opencv-python==4.4.0.46\n",
        "\n",
        "# Reinstall h5py\n",
        "!pip install h5py==2.10.0\n",
        "\n",
        "# pip install mesonet"
      ],
      "execution_count": 4,
      "outputs": [
        {
          "output_type": "stream",
          "text": [
            "Collecting matplotlib==3.1.3\n",
            "\u001b[?25l  Downloading https://files.pythonhosted.org/packages/4c/9b/35ab3469fd1509f7636a344940569ebfd33239673fd2318e80b4700a257c/matplotlib-3.1.3-cp37-cp37m-manylinux1_x86_64.whl (13.1MB)\n",
            "\u001b[K     |████████████████████████████████| 13.1MB 218kB/s \n",
            "\u001b[?25hRequirement already satisfied: numpy>=1.11 in /usr/local/lib/python3.7/dist-packages (from matplotlib==3.1.3) (1.19.5)\n",
            "Requirement already satisfied: kiwisolver>=1.0.1 in /usr/local/lib/python3.7/dist-packages (from matplotlib==3.1.3) (1.3.1)\n",
            "Requirement already satisfied: python-dateutil>=2.1 in /usr/local/lib/python3.7/dist-packages (from matplotlib==3.1.3) (2.8.1)\n",
            "Requirement already satisfied: cycler>=0.10 in /usr/local/lib/python3.7/dist-packages (from matplotlib==3.1.3) (0.10.0)\n",
            "Requirement already satisfied: pyparsing!=2.0.4,!=2.1.2,!=2.1.6,>=2.0.1 in /usr/local/lib/python3.7/dist-packages (from matplotlib==3.1.3) (2.4.7)\n",
            "Requirement already satisfied: six>=1.5 in /usr/local/lib/python3.7/dist-packages (from python-dateutil>=2.1->matplotlib==3.1.3) (1.15.0)\n",
            "\u001b[31mERROR: albumentations 0.1.12 has requirement imgaug<0.2.7,>=0.2.5, but you'll have imgaug 0.2.9 which is incompatible.\u001b[0m\n",
            "Installing collected packages: matplotlib\n",
            "  Found existing installation: matplotlib 3.2.2\n",
            "    Uninstalling matplotlib-3.2.2:\n",
            "      Successfully uninstalled matplotlib-3.2.2\n",
            "Successfully installed matplotlib-3.1.3\n"
          ],
          "name": "stdout"
        },
        {
          "output_type": "display_data",
          "data": {
            "application/vnd.colab-display-data+json": {
              "pip_warning": {
                "packages": [
                  "matplotlib",
                  "mpl_toolkits"
                ]
              }
            }
          },
          "metadata": {
            "tags": []
          }
        },
        {
          "output_type": "stream",
          "text": [
            "Collecting deeplabcut\n",
            "\u001b[?25l  Downloading https://files.pythonhosted.org/packages/04/fc/b5774e22a3eeaac1e1ca5670aa2281a5c408c9abc25f51e53e3f2525aebd/deeplabcut-2.1.10.4-py3-none-any.whl (695kB)\n",
            "\r\u001b[K     |▌                               | 10kB 22.3MB/s eta 0:00:01\r\u001b[K     |█                               | 20kB 27.1MB/s eta 0:00:01\r\u001b[K     |█▍                              | 30kB 31.0MB/s eta 0:00:01\r\u001b[K     |█▉                              | 40kB 32.0MB/s eta 0:00:01\r\u001b[K     |██▍                             | 51kB 33.5MB/s eta 0:00:01\r\u001b[K     |██▉                             | 61kB 34.4MB/s eta 0:00:01\r\u001b[K     |███▎                            | 71kB 34.4MB/s eta 0:00:01\r\u001b[K     |███▊                            | 81kB 33.2MB/s eta 0:00:01\r\u001b[K     |████▎                           | 92kB 33.0MB/s eta 0:00:01\r\u001b[K     |████▊                           | 102kB 34.5MB/s eta 0:00:01\r\u001b[K     |█████▏                          | 112kB 34.5MB/s eta 0:00:01\r\u001b[K     |█████▋                          | 122kB 34.5MB/s eta 0:00:01\r\u001b[K     |██████▏                         | 133kB 34.5MB/s eta 0:00:01\r\u001b[K     |██████▋                         | 143kB 34.5MB/s eta 0:00:01\r\u001b[K     |███████                         | 153kB 34.5MB/s eta 0:00:01\r\u001b[K     |███████▌                        | 163kB 34.5MB/s eta 0:00:01\r\u001b[K     |████████                        | 174kB 34.5MB/s eta 0:00:01\r\u001b[K     |████████▌                       | 184kB 34.5MB/s eta 0:00:01\r\u001b[K     |█████████                       | 194kB 34.5MB/s eta 0:00:01\r\u001b[K     |█████████▍                      | 204kB 34.5MB/s eta 0:00:01\r\u001b[K     |██████████                      | 215kB 34.5MB/s eta 0:00:01\r\u001b[K     |██████████▍                     | 225kB 34.5MB/s eta 0:00:01\r\u001b[K     |██████████▉                     | 235kB 34.5MB/s eta 0:00:01\r\u001b[K     |███████████▎                    | 245kB 34.5MB/s eta 0:00:01\r\u001b[K     |███████████▉                    | 256kB 34.5MB/s eta 0:00:01\r\u001b[K     |████████████▎                   | 266kB 34.5MB/s eta 0:00:01\r\u001b[K     |████████████▊                   | 276kB 34.5MB/s eta 0:00:01\r\u001b[K     |█████████████▏                  | 286kB 34.5MB/s eta 0:00:01\r\u001b[K     |█████████████▋                  | 296kB 34.5MB/s eta 0:00:01\r\u001b[K     |██████████████▏                 | 307kB 34.5MB/s eta 0:00:01\r\u001b[K     |██████████████▋                 | 317kB 34.5MB/s eta 0:00:01\r\u001b[K     |███████████████                 | 327kB 34.5MB/s eta 0:00:01\r\u001b[K     |███████████████▌                | 337kB 34.5MB/s eta 0:00:01\r\u001b[K     |████████████████                | 348kB 34.5MB/s eta 0:00:01\r\u001b[K     |████████████████▌               | 358kB 34.5MB/s eta 0:00:01\r\u001b[K     |█████████████████               | 368kB 34.5MB/s eta 0:00:01\r\u001b[K     |█████████████████▍              | 378kB 34.5MB/s eta 0:00:01\r\u001b[K     |██████████████████              | 389kB 34.5MB/s eta 0:00:01\r\u001b[K     |██████████████████▍             | 399kB 34.5MB/s eta 0:00:01\r\u001b[K     |██████████████████▉             | 409kB 34.5MB/s eta 0:00:01\r\u001b[K     |███████████████████▎            | 419kB 34.5MB/s eta 0:00:01\r\u001b[K     |███████████████████▉            | 430kB 34.5MB/s eta 0:00:01\r\u001b[K     |████████████████████▎           | 440kB 34.5MB/s eta 0:00:01\r\u001b[K     |████████████████████▊           | 450kB 34.5MB/s eta 0:00:01\r\u001b[K     |█████████████████████▏          | 460kB 34.5MB/s eta 0:00:01\r\u001b[K     |█████████████████████▊          | 471kB 34.5MB/s eta 0:00:01\r\u001b[K     |██████████████████████▏         | 481kB 34.5MB/s eta 0:00:01\r\u001b[K     |██████████████████████▋         | 491kB 34.5MB/s eta 0:00:01\r\u001b[K     |███████████████████████         | 501kB 34.5MB/s eta 0:00:01\r\u001b[K     |███████████████████████▋        | 512kB 34.5MB/s eta 0:00:01\r\u001b[K     |████████████████████████        | 522kB 34.5MB/s eta 0:00:01\r\u001b[K     |████████████████████████▌       | 532kB 34.5MB/s eta 0:00:01\r\u001b[K     |█████████████████████████       | 542kB 34.5MB/s eta 0:00:01\r\u001b[K     |█████████████████████████▌      | 552kB 34.5MB/s eta 0:00:01\r\u001b[K     |██████████████████████████      | 563kB 34.5MB/s eta 0:00:01\r\u001b[K     |██████████████████████████▍     | 573kB 34.5MB/s eta 0:00:01\r\u001b[K     |██████████████████████████▉     | 583kB 34.5MB/s eta 0:00:01\r\u001b[K     |███████████████████████████▎    | 593kB 34.5MB/s eta 0:00:01\r\u001b[K     |███████████████████████████▉    | 604kB 34.5MB/s eta 0:00:01\r\u001b[K     |████████████████████████████▎   | 614kB 34.5MB/s eta 0:00:01\r\u001b[K     |████████████████████████████▊   | 624kB 34.5MB/s eta 0:00:01\r\u001b[K     |█████████████████████████████▏  | 634kB 34.5MB/s eta 0:00:01\r\u001b[K     |█████████████████████████████▊  | 645kB 34.5MB/s eta 0:00:01\r\u001b[K     |██████████████████████████████▏ | 655kB 34.5MB/s eta 0:00:01\r\u001b[K     |██████████████████████████████▋ | 665kB 34.5MB/s eta 0:00:01\r\u001b[K     |███████████████████████████████ | 675kB 34.5MB/s eta 0:00:01\r\u001b[K     |███████████████████████████████▋| 686kB 34.5MB/s eta 0:00:01\r\u001b[K     |████████████████████████████████| 696kB 34.5MB/s \n",
            "\u001b[?25hRequirement already satisfied: cython in /usr/local/lib/python3.7/dist-packages (from deeplabcut) (0.29.23)\n",
            "Requirement already satisfied: h5py in /usr/local/lib/python3.7/dist-packages (from deeplabcut) (3.1.0)\n",
            "Requirement already satisfied: tqdm in /usr/local/lib/python3.7/dist-packages (from deeplabcut) (4.41.1)\n",
            "Requirement already satisfied: chardet in /usr/local/lib/python3.7/dist-packages (from deeplabcut) (3.0.4)\n",
            "Requirement already satisfied: networkx in /usr/local/lib/python3.7/dist-packages (from deeplabcut) (2.5.1)\n",
            "Requirement already satisfied: matplotlib==3.1.3 in /usr/local/lib/python3.7/dist-packages (from deeplabcut) (3.1.3)\n",
            "Requirement already satisfied: ipython in /usr/local/lib/python3.7/dist-packages (from deeplabcut) (5.5.0)\n",
            "Requirement already satisfied: wheel in /usr/local/lib/python3.7/dist-packages (from deeplabcut) (0.36.2)\n",
            "Collecting tensorpack==0.9.8\n",
            "\u001b[?25l  Downloading https://files.pythonhosted.org/packages/a8/cb/62dc9115722a0b4fbeca6275ffbe47118149171ffafa7d1db6e295453aae/tensorpack-0.9.8-py2.py3-none-any.whl (288kB)\n",
            "\u001b[K     |████████████████████████████████| 296kB 49.8MB/s \n",
            "\u001b[?25hRequirement already satisfied: scipy>=1.4 in /usr/local/lib/python3.7/dist-packages (from deeplabcut) (1.4.1)\n",
            "Requirement already satisfied: intel-openmp in /usr/local/lib/python3.7/dist-packages (from deeplabcut) (2021.3.0)\n",
            "Requirement already satisfied: six in /usr/local/lib/python3.7/dist-packages (from deeplabcut) (1.15.0)\n",
            "Requirement already satisfied: certifi in /usr/local/lib/python3.7/dist-packages (from deeplabcut) (2021.5.30)\n",
            "Requirement already satisfied: moviepy<=1.0.1 in /usr/local/lib/python3.7/dist-packages (from deeplabcut) (0.2.3.5)\n",
            "Requirement already satisfied: scikit-learn in /usr/local/lib/python3.7/dist-packages (from deeplabcut) (0.22.2.post1)\n",
            "Collecting numba==0.51.1\n",
            "\u001b[?25l  Downloading https://files.pythonhosted.org/packages/e4/f3/a32d3bc3d23923228e49276bbc1bdce3763dd19a299c4b4164d83bb5989f/numba-0.51.1-cp37-cp37m-manylinux2014_x86_64.whl (3.1MB)\n",
            "\u001b[K     |████████████████████████████████| 3.1MB 27.0MB/s \n",
            "\u001b[?25hRequirement already satisfied: python-dateutil in /usr/local/lib/python3.7/dist-packages (from deeplabcut) (2.8.1)\n",
            "Requirement already satisfied: imgaug in /usr/local/lib/python3.7/dist-packages (from deeplabcut) (0.2.9)\n",
            "Requirement already satisfied: pandas>=1.0.1 in /usr/local/lib/python3.7/dist-packages (from deeplabcut) (1.1.5)\n",
            "Collecting numpy~=1.17.3\n",
            "\u001b[?25l  Downloading https://files.pythonhosted.org/packages/b1/51/20098150b6108061cb7542af3de7bfcfe0182bca21613697153e49dc4adc/numpy-1.17.5-cp37-cp37m-manylinux1_x86_64.whl (20.0MB)\n",
            "\u001b[K     |████████████████████████████████| 20.0MB 1.5MB/s \n",
            "\u001b[?25hCollecting opencv-python-headless~=3.4.9.33\n",
            "\u001b[?25l  Downloading https://files.pythonhosted.org/packages/67/1c/5544e626593158c6a23599f40193464121526e45aa470001a8113e45d9b8/opencv_python_headless-3.4.9.33-cp37-cp37m-manylinux1_x86_64.whl (21.6MB)\n",
            "\u001b[K     |████████████████████████████████| 21.6MB 21.8MB/s \n",
            "\u001b[?25hRequirement already satisfied: tables in /usr/local/lib/python3.7/dist-packages (from deeplabcut) (3.4.4)\n",
            "Requirement already satisfied: ipython-genutils in /usr/local/lib/python3.7/dist-packages (from deeplabcut) (0.2.0)\n",
            "Requirement already satisfied: pyyaml in /usr/local/lib/python3.7/dist-packages (from deeplabcut) (3.13)\n",
            "Collecting bayesian-optimization\n",
            "  Downloading https://files.pythonhosted.org/packages/bb/7a/fd8059a3881d3ab37ac8f72f56b73937a14e8bb14a9733e68cc8b17dbe3c/bayesian-optimization-1.2.0.tar.gz\n",
            "Collecting filterpy\n",
            "\u001b[?25l  Downloading https://files.pythonhosted.org/packages/f6/1d/ac8914360460fafa1990890259b7fa5ef7ba4cd59014e782e4ab3ab144d8/filterpy-1.4.5.zip (177kB)\n",
            "\u001b[K     |████████████████████████████████| 184kB 52.6MB/s \n",
            "\u001b[?25hRequirement already satisfied: patsy in /usr/local/lib/python3.7/dist-packages (from deeplabcut) (0.5.1)\n",
            "Requirement already satisfied: setuptools in /usr/local/lib/python3.7/dist-packages (from deeplabcut) (57.2.0)\n",
            "Collecting scikit-image>=0.17\n",
            "\u001b[?25l  Downloading https://files.pythonhosted.org/packages/cd/d9/d738fdb4954575fb631b9c7a2eaa59df3ab8b7f3c2fc28a37259a42d8a49/scikit_image-0.18.2-cp37-cp37m-manylinux1_x86_64.whl (29.2MB)\n",
            "\u001b[K     |████████████████████████████████| 29.2MB 105kB/s \n",
            "\u001b[?25hCollecting statsmodels>=0.11\n",
            "\u001b[?25l  Downloading https://files.pythonhosted.org/packages/da/69/8eef30a6237c54f3c0b524140e2975f4b1eea3489b45eb3339574fc8acee/statsmodels-0.12.2-cp37-cp37m-manylinux1_x86_64.whl (9.5MB)\n",
            "\u001b[K     |████████████████████████████████| 9.5MB 27.1MB/s \n",
            "\u001b[?25hRequirement already satisfied: click in /usr/local/lib/python3.7/dist-packages (from deeplabcut) (7.1.2)\n",
            "Collecting ruamel.yaml>=0.15.0\n",
            "\u001b[?25l  Downloading https://files.pythonhosted.org/packages/0e/57/19361b93542a1bb071fe8b7dd5ae792de6e8ab86c707aa2c44db08c60b99/ruamel.yaml-0.17.10-py3-none-any.whl (108kB)\n",
            "\u001b[K     |████████████████████████████████| 112kB 56.8MB/s \n",
            "\u001b[?25hRequirement already satisfied: cached-property; python_version < \"3.8\" in /usr/local/lib/python3.7/dist-packages (from h5py->deeplabcut) (1.5.2)\n",
            "Requirement already satisfied: decorator<5,>=4.3 in /usr/local/lib/python3.7/dist-packages (from networkx->deeplabcut) (4.4.2)\n",
            "Requirement already satisfied: kiwisolver>=1.0.1 in /usr/local/lib/python3.7/dist-packages (from matplotlib==3.1.3->deeplabcut) (1.3.1)\n",
            "Requirement already satisfied: cycler>=0.10 in /usr/local/lib/python3.7/dist-packages (from matplotlib==3.1.3->deeplabcut) (0.10.0)\n",
            "Requirement already satisfied: pyparsing!=2.0.4,!=2.1.2,!=2.1.6,>=2.0.1 in /usr/local/lib/python3.7/dist-packages (from matplotlib==3.1.3->deeplabcut) (2.4.7)\n",
            "Requirement already satisfied: traitlets>=4.2 in /usr/local/lib/python3.7/dist-packages (from ipython->deeplabcut) (5.0.5)\n",
            "Requirement already satisfied: pexpect; sys_platform != \"win32\" in /usr/local/lib/python3.7/dist-packages (from ipython->deeplabcut) (4.8.0)\n",
            "Requirement already satisfied: prompt-toolkit<2.0.0,>=1.0.4 in /usr/local/lib/python3.7/dist-packages (from ipython->deeplabcut) (1.0.18)\n",
            "Requirement already satisfied: pickleshare in /usr/local/lib/python3.7/dist-packages (from ipython->deeplabcut) (0.7.5)\n",
            "Requirement already satisfied: pygments in /usr/local/lib/python3.7/dist-packages (from ipython->deeplabcut) (2.6.1)\n",
            "Requirement already satisfied: simplegeneric>0.8 in /usr/local/lib/python3.7/dist-packages (from ipython->deeplabcut) (0.8.1)\n",
            "Requirement already satisfied: msgpack>=0.5.2 in /usr/local/lib/python3.7/dist-packages (from tensorpack==0.9.8->deeplabcut) (1.0.2)\n",
            "Requirement already satisfied: psutil>=5 in /usr/local/lib/python3.7/dist-packages (from tensorpack==0.9.8->deeplabcut) (5.4.8)\n",
            "Requirement already satisfied: pyzmq>=16 in /usr/local/lib/python3.7/dist-packages (from tensorpack==0.9.8->deeplabcut) (22.1.0)\n",
            "Collecting msgpack-numpy>=0.4.4.2\n",
            "  Downloading https://files.pythonhosted.org/packages/19/05/05b8d7c69c6abb36a34325cc3150089bdafc359f0a81fb998d93c5d5c737/msgpack_numpy-0.4.7.1-py2.py3-none-any.whl\n",
            "Requirement already satisfied: termcolor>=1.1 in /usr/local/lib/python3.7/dist-packages (from tensorpack==0.9.8->deeplabcut) (1.1.0)\n",
            "Requirement already satisfied: tabulate>=0.7.7 in /usr/local/lib/python3.7/dist-packages (from tensorpack==0.9.8->deeplabcut) (0.8.9)\n",
            "Requirement already satisfied: imageio<3.0,>=2.1.2 in /usr/local/lib/python3.7/dist-packages (from moviepy<=1.0.1->deeplabcut) (2.4.1)\n",
            "Requirement already satisfied: joblib>=0.11 in /usr/local/lib/python3.7/dist-packages (from scikit-learn->deeplabcut) (1.0.1)\n",
            "Requirement already satisfied: llvmlite<0.35,>=0.34.0.dev0 in /usr/local/lib/python3.7/dist-packages (from numba==0.51.1->deeplabcut) (0.34.0)\n",
            "Requirement already satisfied: Pillow in /usr/local/lib/python3.7/dist-packages (from imgaug->deeplabcut) (7.1.2)\n",
            "Requirement already satisfied: Shapely in /usr/local/lib/python3.7/dist-packages (from imgaug->deeplabcut) (1.7.1)\n",
            "Requirement already satisfied: opencv-python in /usr/local/lib/python3.7/dist-packages (from imgaug->deeplabcut) (4.1.2.30)\n",
            "Requirement already satisfied: pytz>=2017.2 in /usr/local/lib/python3.7/dist-packages (from pandas>=1.0.1->deeplabcut) (2018.9)\n",
            "Requirement already satisfied: numexpr>=2.5.2 in /usr/local/lib/python3.7/dist-packages (from tables->deeplabcut) (2.7.3)\n",
            "Requirement already satisfied: tifffile>=2019.7.26 in /usr/local/lib/python3.7/dist-packages (from scikit-image>=0.17->deeplabcut) (2021.7.2)\n",
            "Requirement already satisfied: PyWavelets>=1.1.1 in /usr/local/lib/python3.7/dist-packages (from scikit-image>=0.17->deeplabcut) (1.1.1)\n",
            "Collecting ruamel.yaml.clib>=0.1.2; platform_python_implementation == \"CPython\" and python_version < \"3.10\"\n",
            "\u001b[?25l  Downloading https://files.pythonhosted.org/packages/98/8a/ba37489b423916162b086b01c7c18001cf297350694180468e1698085c58/ruamel.yaml.clib-0.2.6-cp37-cp37m-manylinux1_x86_64.whl (546kB)\n",
            "\u001b[K     |████████████████████████████████| 552kB 43.4MB/s \n",
            "\u001b[?25hRequirement already satisfied: ptyprocess>=0.5 in /usr/local/lib/python3.7/dist-packages (from pexpect; sys_platform != \"win32\"->ipython->deeplabcut) (0.7.0)\n",
            "Requirement already satisfied: wcwidth in /usr/local/lib/python3.7/dist-packages (from prompt-toolkit<2.0.0,>=1.0.4->ipython->deeplabcut) (0.2.5)\n",
            "Building wheels for collected packages: bayesian-optimization, filterpy\n",
            "  Building wheel for bayesian-optimization (setup.py) ... \u001b[?25l\u001b[?25hdone\n",
            "  Created wheel for bayesian-optimization: filename=bayesian_optimization-1.2.0-cp37-none-any.whl size=11686 sha256=b1f43bc2ab34ae0323f0b72c3c75283140a9597fa0bad935f086e778e294f17e\n",
            "  Stored in directory: /root/.cache/pip/wheels/5a/56/ae/e0e3c1fc1954dc3ec712e2df547235ed072b448094d8f94aec\n",
            "  Building wheel for filterpy (setup.py) ... \u001b[?25l\u001b[?25hdone\n",
            "  Created wheel for filterpy: filename=filterpy-1.4.5-cp37-none-any.whl size=110476 sha256=84c0608a528cb29294f7a0d55570f58c7d20dfd8e3cf9692f410721d80a5f9d3\n",
            "  Stored in directory: /root/.cache/pip/wheels/c3/0c/dd/e92392c3f38a41371602d99fc77d6c1d42aadbf0c6afccdd02\n",
            "Successfully built bayesian-optimization filterpy\n",
            "\u001b[31mERROR: tensorflow 2.5.0 has requirement numpy~=1.19.2, but you'll have numpy 1.17.5 which is incompatible.\u001b[0m\n",
            "\u001b[31mERROR: kapre 0.3.5 has requirement numpy>=1.18.5, but you'll have numpy 1.17.5 which is incompatible.\u001b[0m\n",
            "\u001b[31mERROR: datascience 0.10.6 has requirement folium==0.2.1, but you'll have folium 0.8.3 which is incompatible.\u001b[0m\n",
            "\u001b[31mERROR: albumentations 0.1.12 has requirement imgaug<0.2.7,>=0.2.5, but you'll have imgaug 0.2.9 which is incompatible.\u001b[0m\n",
            "Installing collected packages: numpy, msgpack-numpy, tensorpack, numba, opencv-python-headless, bayesian-optimization, filterpy, scikit-image, statsmodels, ruamel.yaml.clib, ruamel.yaml, deeplabcut\n",
            "  Found existing installation: numpy 1.19.5\n",
            "    Uninstalling numpy-1.19.5:\n",
            "      Successfully uninstalled numpy-1.19.5\n",
            "  Found existing installation: numba 0.51.2\n",
            "    Uninstalling numba-0.51.2:\n",
            "      Successfully uninstalled numba-0.51.2\n",
            "  Found existing installation: scikit-image 0.16.2\n",
            "    Uninstalling scikit-image-0.16.2:\n",
            "      Successfully uninstalled scikit-image-0.16.2\n",
            "  Found existing installation: statsmodels 0.10.2\n",
            "    Uninstalling statsmodels-0.10.2:\n",
            "      Successfully uninstalled statsmodels-0.10.2\n",
            "Successfully installed bayesian-optimization-1.2.0 deeplabcut-2.1.10.4 filterpy-1.4.5 msgpack-numpy-0.4.7.1 numba-0.51.1 numpy-1.17.5 opencv-python-headless-3.4.9.33 ruamel.yaml-0.17.10 ruamel.yaml.clib-0.2.6 scikit-image-0.18.2 statsmodels-0.12.2 tensorpack-0.9.8\n"
          ],
          "name": "stdout"
        },
        {
          "output_type": "display_data",
          "data": {
            "application/vnd.colab-display-data+json": {
              "pip_warning": {
                "packages": [
                  "numpy"
                ]
              }
            }
          },
          "metadata": {
            "tags": []
          }
        },
        {
          "output_type": "stream",
          "text": [
            "running install\n",
            "running bdist_egg\n",
            "running egg_info\n",
            "creating mesonet.egg-info\n",
            "writing mesonet.egg-info/PKG-INFO\n",
            "writing dependency_links to mesonet.egg-info/dependency_links.txt\n",
            "writing requirements to mesonet.egg-info/requires.txt\n",
            "writing top-level names to mesonet.egg-info/top_level.txt\n",
            "writing manifest file 'mesonet.egg-info/SOURCES.txt'\n",
            "adding license file 'LICENSE'\n",
            "writing manifest file 'mesonet.egg-info/SOURCES.txt'\n",
            "installing library code to build/bdist.linux-x86_64/egg\n",
            "running install_lib\n",
            "running build_py\n",
            "creating build\n",
            "creating build/lib\n",
            "creating build/lib/mesonet\n",
            "copying mesonet/mask_functions.py -> build/lib/mesonet\n",
            "copying mesonet/voxelmorph_align.py -> build/lib/mesonet\n",
            "copying mesonet/gui_train.py -> build/lib/mesonet\n",
            "copying mesonet/atlas_brain_matching.py -> build/lib/mesonet\n",
            "copying mesonet/gui_start.py -> build/lib/mesonet\n",
            "copying mesonet/gui_test.py -> build/lib/mesonet\n",
            "copying mesonet/dlc_predict.py -> build/lib/mesonet\n",
            "copying mesonet/__init__.py -> build/lib/mesonet\n",
            "copying mesonet/predict_regions.py -> build/lib/mesonet\n",
            "copying mesonet/img_augment.py -> build/lib/mesonet\n",
            "copying mesonet/data.py -> build/lib/mesonet\n",
            "copying mesonet/utils.py -> build/lib/mesonet\n",
            "copying mesonet/train_model.py -> build/lib/mesonet\n",
            "copying mesonet/model.py -> build/lib/mesonet\n",
            "creating build/bdist.linux-x86_64\n",
            "creating build/bdist.linux-x86_64/egg\n",
            "creating build/bdist.linux-x86_64/egg/mesonet\n",
            "copying build/lib/mesonet/mask_functions.py -> build/bdist.linux-x86_64/egg/mesonet\n",
            "copying build/lib/mesonet/voxelmorph_align.py -> build/bdist.linux-x86_64/egg/mesonet\n",
            "copying build/lib/mesonet/gui_train.py -> build/bdist.linux-x86_64/egg/mesonet\n",
            "copying build/lib/mesonet/atlas_brain_matching.py -> build/bdist.linux-x86_64/egg/mesonet\n",
            "copying build/lib/mesonet/gui_start.py -> build/bdist.linux-x86_64/egg/mesonet\n",
            "copying build/lib/mesonet/gui_test.py -> build/bdist.linux-x86_64/egg/mesonet\n",
            "copying build/lib/mesonet/dlc_predict.py -> build/bdist.linux-x86_64/egg/mesonet\n",
            "copying build/lib/mesonet/__init__.py -> build/bdist.linux-x86_64/egg/mesonet\n",
            "copying build/lib/mesonet/predict_regions.py -> build/bdist.linux-x86_64/egg/mesonet\n",
            "copying build/lib/mesonet/img_augment.py -> build/bdist.linux-x86_64/egg/mesonet\n",
            "copying build/lib/mesonet/data.py -> build/bdist.linux-x86_64/egg/mesonet\n",
            "copying build/lib/mesonet/utils.py -> build/bdist.linux-x86_64/egg/mesonet\n",
            "copying build/lib/mesonet/train_model.py -> build/bdist.linux-x86_64/egg/mesonet\n",
            "copying build/lib/mesonet/model.py -> build/bdist.linux-x86_64/egg/mesonet\n",
            "byte-compiling build/bdist.linux-x86_64/egg/mesonet/mask_functions.py to mask_functions.cpython-37.pyc\n",
            "byte-compiling build/bdist.linux-x86_64/egg/mesonet/voxelmorph_align.py to voxelmorph_align.cpython-37.pyc\n",
            "byte-compiling build/bdist.linux-x86_64/egg/mesonet/gui_train.py to gui_train.cpython-37.pyc\n",
            "byte-compiling build/bdist.linux-x86_64/egg/mesonet/atlas_brain_matching.py to atlas_brain_matching.cpython-37.pyc\n",
            "byte-compiling build/bdist.linux-x86_64/egg/mesonet/gui_start.py to gui_start.cpython-37.pyc\n",
            "byte-compiling build/bdist.linux-x86_64/egg/mesonet/gui_test.py to gui_test.cpython-37.pyc\n",
            "byte-compiling build/bdist.linux-x86_64/egg/mesonet/dlc_predict.py to dlc_predict.cpython-37.pyc\n",
            "byte-compiling build/bdist.linux-x86_64/egg/mesonet/__init__.py to __init__.cpython-37.pyc\n",
            "byte-compiling build/bdist.linux-x86_64/egg/mesonet/predict_regions.py to predict_regions.cpython-37.pyc\n",
            "byte-compiling build/bdist.linux-x86_64/egg/mesonet/img_augment.py to img_augment.cpython-37.pyc\n",
            "byte-compiling build/bdist.linux-x86_64/egg/mesonet/data.py to data.cpython-37.pyc\n",
            "byte-compiling build/bdist.linux-x86_64/egg/mesonet/utils.py to utils.cpython-37.pyc\n",
            "byte-compiling build/bdist.linux-x86_64/egg/mesonet/train_model.py to train_model.cpython-37.pyc\n",
            "byte-compiling build/bdist.linux-x86_64/egg/mesonet/model.py to model.cpython-37.pyc\n",
            "creating build/bdist.linux-x86_64/egg/EGG-INFO\n",
            "copying mesonet.egg-info/PKG-INFO -> build/bdist.linux-x86_64/egg/EGG-INFO\n",
            "copying mesonet.egg-info/SOURCES.txt -> build/bdist.linux-x86_64/egg/EGG-INFO\n",
            "copying mesonet.egg-info/dependency_links.txt -> build/bdist.linux-x86_64/egg/EGG-INFO\n",
            "copying mesonet.egg-info/requires.txt -> build/bdist.linux-x86_64/egg/EGG-INFO\n",
            "copying mesonet.egg-info/top_level.txt -> build/bdist.linux-x86_64/egg/EGG-INFO\n",
            "zip_safe flag not set; analyzing archive contents...\n",
            "creating dist\n",
            "creating 'dist/mesonet-1.0.3-py3.7.egg' and adding 'build/bdist.linux-x86_64/egg' to it\n",
            "removing 'build/bdist.linux-x86_64/egg' (and everything under it)\n",
            "Processing mesonet-1.0.3-py3.7.egg\n",
            "Copying mesonet-1.0.3-py3.7.egg to /usr/local/lib/python3.7/dist-packages\n",
            "Adding mesonet 1.0.3 to easy-install.pth file\n",
            "\n",
            "Installed /usr/local/lib/python3.7/dist-packages/mesonet-1.0.3-py3.7.egg\n",
            "Processing dependencies for mesonet==1.0.3\n",
            "Searching for neurite\n",
            "Reading https://pypi.org/simple/neurite/\n",
            "Downloading https://files.pythonhosted.org/packages/a0/4b/705ff365b11bef90b73f5f680c66e34eb3053a7e9ab2bb0705be7b854f08/neurite-0.1-py3-none-any.whl#sha256=22dbeff782106bd5b07ed64d408f1313e63345717166bd2224934a6676529bbc\n",
            "Best match: neurite 0.1\n",
            "Processing neurite-0.1-py3-none-any.whl\n",
            "Installing neurite-0.1-py3-none-any.whl to /usr/local/lib/python3.7/dist-packages\n",
            "Adding neurite 0.1 to easy-install.pth file\n",
            "\n",
            "Installed /usr/local/lib/python3.7/dist-packages/neurite-0.1-py3.7.egg\n",
            "Searching for voxelmorph\n",
            "Reading https://pypi.org/simple/voxelmorph/\n",
            "Downloading https://files.pythonhosted.org/packages/3c/77/fdcf9ff2c8450d447ba760122b50575cfc037921b5870dac61c04a4609cc/voxelmorph-0.1-py3-none-any.whl#sha256=ec83b4d0d1857b2b3f15499f88355d3026f32b5867df609ad5a6f96fe5cd942f\n",
            "Best match: voxelmorph 0.1\n",
            "Processing voxelmorph-0.1-py3-none-any.whl\n",
            "Installing voxelmorph-0.1-py3-none-any.whl to /usr/local/lib/python3.7/dist-packages\n",
            "Adding voxelmorph 0.1 to easy-install.pth file\n",
            "\n",
            "Installed /usr/local/lib/python3.7/dist-packages/voxelmorph-0.1-py3.7.egg\n",
            "Searching for python-polylabel\n",
            "Reading https://pypi.org/simple/python-polylabel/\n",
            "Downloading https://files.pythonhosted.org/packages/46/72/c0af9eaf4d4e3f1bfd6035bee76fe7ee8eda8bc9747f9e241bfb937eee82/python_polylabel-0.6-py3-none-any.whl#sha256=d4043cf453025f2f3ffd11eb0a4170ba3575e047ac9de7dec548e7d54e015cc1\n",
            "Best match: python-polylabel 0.6\n",
            "Processing python_polylabel-0.6-py3-none-any.whl\n",
            "Installing python_polylabel-0.6-py3-none-any.whl to /usr/local/lib/python3.7/dist-packages\n",
            "Adding python-polylabel 0.6 to easy-install.pth file\n",
            "\n",
            "Installed /usr/local/lib/python3.7/dist-packages/python_polylabel-0.6-py3.7.egg\n",
            "Searching for opencv-python==4.4.0.46\n",
            "Reading https://pypi.org/simple/opencv-python/\n",
            "Downloading https://files.pythonhosted.org/packages/1b/2d/62eba161d3d713e1720504de1c25d439b02c85159804d9ecead10be5d87e/opencv_python-4.4.0.46-cp37-cp37m-manylinux2014_x86_64.whl#sha256=f69a56e958ecb549ba84e0497a438080932b4d52ded441cec04d80afde71dc0a\n",
            "Best match: opencv-python 4.4.0.46\n",
            "Processing opencv_python-4.4.0.46-cp37-cp37m-manylinux2014_x86_64.whl\n",
            "Installing opencv_python-4.4.0.46-cp37-cp37m-manylinux2014_x86_64.whl to /usr/local/lib/python3.7/dist-packages\n",
            "Adding opencv-python 4.4.0.46 to easy-install.pth file\n",
            "\n",
            "Installed /usr/local/lib/python3.7/dist-packages/opencv_python-4.4.0.46-py3.7-linux-x86_64.egg\n",
            "Searching for keras==2.3.1\n",
            "Reading https://pypi.org/simple/keras/\n",
            "Downloading https://files.pythonhosted.org/packages/ad/fd/6bfe87920d7f4fd475acd28500a42482b6b84479832bdc0fe9e589a60ceb/Keras-2.3.1-py2.py3-none-any.whl#sha256=d08a57bd63546175f8f19232ba05906514d419da3e0af8ef7437fa1c11442e20\n",
            "Best match: Keras 2.3.1\n",
            "Processing Keras-2.3.1-py2.py3-none-any.whl\n",
            "Installing Keras-2.3.1-py2.py3-none-any.whl to /usr/local/lib/python3.7/dist-packages\n",
            "Adding Keras 2.3.1 to easy-install.pth file\n",
            "\n",
            "Installed /usr/local/lib/python3.7/dist-packages/Keras-2.3.1-py3.7.egg\n",
            "Searching for pystrum\n",
            "Reading https://pypi.org/simple/pystrum/\n",
            "Downloading https://files.pythonhosted.org/packages/e4/3a/99e310f01f9e3ef4ab78d9e194c3b22bc53574c70c61c9c9bfc136161439/pystrum-0.1-py3-none-any.whl#sha256=31727c7a647fb372ddb95bca8ea3a79d7d7376f93253d936c5cf9e26aa41a13f\n",
            "Best match: pystrum 0.1\n",
            "Processing pystrum-0.1-py3-none-any.whl\n",
            "Installing pystrum-0.1-py3-none-any.whl to /usr/local/lib/python3.7/dist-packages\n",
            "Adding pystrum 0.1 to easy-install.pth file\n",
            "\n",
            "Installed /usr/local/lib/python3.7/dist-packages/pystrum-0.1-py3.7.egg\n",
            "Searching for keras-applications>=1.0.6\n",
            "Reading https://pypi.org/simple/keras-applications/\n",
            "Downloading https://files.pythonhosted.org/packages/71/e3/19762fdfc62877ae9102edf6342d71b28fbfd9dea3d2f96a882ce099b03f/Keras_Applications-1.0.8-py3-none-any.whl#sha256=df4323692b8c1174af821bf906f1e442e63fa7589bf0f1230a0b6bdc5a810c95\n",
            "Best match: Keras-Applications 1.0.8\n",
            "Processing Keras_Applications-1.0.8-py3-none-any.whl\n",
            "Installing Keras_Applications-1.0.8-py3-none-any.whl to /usr/local/lib/python3.7/dist-packages\n",
            "Adding Keras-Applications 1.0.8 to easy-install.pth file\n",
            "\n",
            "Installed /usr/local/lib/python3.7/dist-packages/Keras_Applications-1.0.8-py3.7.egg\n",
            "Searching for imgaug==0.2.9\n",
            "Best match: imgaug 0.2.9\n",
            "Adding imgaug 0.2.9 to easy-install.pth file\n",
            "\n",
            "Using /usr/local/lib/python3.7/dist-packages\n",
            "Searching for matplotlib==3.1.3\n",
            "Best match: matplotlib 3.1.3\n",
            "Adding matplotlib 3.1.3 to easy-install.pth file\n",
            "\n",
            "Using /usr/local/lib/python3.7/dist-packages\n",
            "Searching for pandas==1.1.5\n",
            "Best match: pandas 1.1.5\n",
            "Adding pandas 1.1.5 to easy-install.pth file\n",
            "\n",
            "Using /usr/local/lib/python3.7/dist-packages\n",
            "Searching for deeplabcut==2.1.10.4\n",
            "Best match: deeplabcut 2.1.10.4\n",
            "Adding deeplabcut 2.1.10.4 to easy-install.pth file\n",
            "Installing dlc script to /usr/local/bin\n",
            "\n",
            "Using /usr/local/lib/python3.7/dist-packages\n",
            "Searching for Pillow==7.1.2\n",
            "Best match: Pillow 7.1.2\n",
            "Adding Pillow 7.1.2 to easy-install.pth file\n",
            "\n",
            "Using /usr/local/lib/python3.7/dist-packages\n",
            "Searching for numpy==1.17.5\n",
            "Best match: numpy 1.17.5\n",
            "Adding numpy 1.17.5 to easy-install.pth file\n",
            "Installing f2py script to /usr/local/bin\n",
            "Installing f2py3 script to /usr/local/bin\n",
            "Installing f2py3.7 script to /usr/local/bin\n",
            "\n",
            "Using /usr/local/lib/python3.7/dist-packages\n",
            "Searching for scipy==1.4.1\n",
            "Best match: scipy 1.4.1\n",
            "Adding scipy 1.4.1 to easy-install.pth file\n",
            "\n",
            "Using /usr/local/lib/python3.7/dist-packages\n",
            "Searching for scikit-image==0.18.2\n",
            "Best match: scikit-image 0.18.2\n",
            "Adding scikit-image 0.18.2 to easy-install.pth file\n",
            "Installing skivi script to /usr/local/bin\n",
            "\n",
            "Using /usr/local/lib/python3.7/dist-packages\n",
            "Searching for imutils==0.5.4\n",
            "Best match: imutils 0.5.4\n",
            "Adding imutils 0.5.4 to easy-install.pth file\n",
            "\n",
            "Using /usr/local/lib/python3.7/dist-packages\n",
            "Searching for tqdm==4.41.1\n",
            "Best match: tqdm 4.41.1\n",
            "Adding tqdm 4.41.1 to easy-install.pth file\n",
            "Installing tqdm script to /usr/local/bin\n",
            "\n",
            "Using /usr/local/lib/python3.7/dist-packages\n",
            "Searching for six==1.15.0\n",
            "Best match: six 1.15.0\n",
            "Adding six 1.15.0 to easy-install.pth file\n",
            "\n",
            "Using /usr/local/lib/python3.7/dist-packages\n",
            "Searching for scikit-learn==0.22.2.post1\n",
            "Best match: scikit-learn 0.22.2.post1\n",
            "Adding scikit-learn 0.22.2.post1 to easy-install.pth file\n",
            "\n",
            "Using /usr/local/lib/python3.7/dist-packages\n",
            "Searching for nibabel==3.0.2\n",
            "Best match: nibabel 3.0.2\n",
            "Adding nibabel 3.0.2 to easy-install.pth file\n",
            "Installing nib-dicomfs script to /usr/local/bin\n",
            "Installing nib-diff script to /usr/local/bin\n",
            "Installing nib-ls script to /usr/local/bin\n",
            "Installing nib-nifti-dx script to /usr/local/bin\n",
            "Installing nib-tck2trk script to /usr/local/bin\n",
            "Installing nib-trk2tck script to /usr/local/bin\n",
            "Installing parrec2nii script to /usr/local/bin\n",
            "\n",
            "Using /usr/local/lib/python3.7/dist-packages\n",
            "Searching for h5py==3.1.0\n",
            "Best match: h5py 3.1.0\n",
            "Adding h5py 3.1.0 to easy-install.pth file\n",
            "\n",
            "Using /usr/local/lib/python3.7/dist-packages\n",
            "Searching for Shapely==1.7.1\n",
            "Best match: Shapely 1.7.1\n",
            "Adding Shapely 1.7.1 to easy-install.pth file\n",
            "\n",
            "Using /usr/local/lib/python3.7/dist-packages\n",
            "Searching for imageio==2.4.1\n",
            "Best match: imageio 2.4.1\n",
            "Adding imageio 2.4.1 to easy-install.pth file\n",
            "Installing imageio_download_bin script to /usr/local/bin\n",
            "Installing imageio_remove_bin script to /usr/local/bin\n",
            "\n",
            "Using /usr/local/lib/python3.7/dist-packages\n",
            "Searching for python-dateutil==2.8.1\n",
            "Best match: python-dateutil 2.8.1\n",
            "Adding python-dateutil 2.8.1 to easy-install.pth file\n",
            "\n",
            "Using /usr/local/lib/python3.7/dist-packages\n",
            "Searching for kiwisolver==1.3.1\n",
            "Best match: kiwisolver 1.3.1\n",
            "Adding kiwisolver 1.3.1 to easy-install.pth file\n",
            "\n",
            "Using /usr/local/lib/python3.7/dist-packages\n",
            "Searching for pyparsing==2.4.7\n",
            "Best match: pyparsing 2.4.7\n",
            "Adding pyparsing 2.4.7 to easy-install.pth file\n",
            "\n",
            "Using /usr/local/lib/python3.7/dist-packages\n",
            "Searching for cycler==0.10.0\n",
            "Best match: cycler 0.10.0\n",
            "Adding cycler 0.10.0 to easy-install.pth file\n",
            "\n",
            "Using /usr/local/lib/python3.7/dist-packages\n",
            "Searching for pytz==2018.9\n",
            "Best match: pytz 2018.9\n",
            "Adding pytz 2018.9 to easy-install.pth file\n",
            "\n",
            "Using /usr/local/lib/python3.7/dist-packages\n",
            "Searching for bayesian-optimization==1.2.0\n",
            "Best match: bayesian-optimization 1.2.0\n",
            "Adding bayesian-optimization 1.2.0 to easy-install.pth file\n",
            "\n",
            "Using /usr/local/lib/python3.7/dist-packages\n",
            "Searching for Cython==0.29.23\n",
            "Best match: Cython 0.29.23\n",
            "Adding Cython 0.29.23 to easy-install.pth file\n",
            "Installing cygdb script to /usr/local/bin\n",
            "Installing cython script to /usr/local/bin\n",
            "Installing cythonize script to /usr/local/bin\n",
            "\n",
            "Using /usr/local/lib/python3.7/dist-packages\n",
            "Searching for tensorpack==0.9.8\n",
            "Best match: tensorpack 0.9.8\n",
            "Adding tensorpack 0.9.8 to easy-install.pth file\n",
            "\n",
            "Using /usr/local/lib/python3.7/dist-packages\n",
            "Searching for patsy==0.5.1\n",
            "Best match: patsy 0.5.1\n",
            "Adding patsy 0.5.1 to easy-install.pth file\n",
            "\n",
            "Using /usr/local/lib/python3.7/dist-packages\n",
            "Searching for statsmodels==0.12.2\n",
            "Best match: statsmodels 0.12.2\n",
            "Adding statsmodels 0.12.2 to easy-install.pth file\n",
            "\n",
            "Using /usr/local/lib/python3.7/dist-packages\n",
            "Searching for ipython-genutils==0.2.0\n",
            "Best match: ipython-genutils 0.2.0\n",
            "Adding ipython-genutils 0.2.0 to easy-install.pth file\n",
            "\n",
            "Using /usr/local/lib/python3.7/dist-packages\n",
            "Searching for intel-openmp==2021.3.0\n",
            "Best match: intel-openmp 2021.3.0\n",
            "Adding intel-openmp 2021.3.0 to easy-install.pth file\n",
            "\n",
            "Using /usr/local/lib/python3.7/dist-packages\n",
            "Searching for setuptools==57.2.0\n",
            "Best match: setuptools 57.2.0\n",
            "Adding setuptools 57.2.0 to easy-install.pth file\n",
            "\n",
            "Using /usr/local/lib/python3.7/dist-packages\n",
            "Searching for networkx==2.5.1\n",
            "Best match: networkx 2.5.1\n",
            "Adding networkx 2.5.1 to easy-install.pth file\n",
            "\n",
            "Using /usr/local/lib/python3.7/dist-packages\n",
            "Searching for tables==3.4.4\n",
            "Best match: tables 3.4.4\n",
            "Adding tables 3.4.4 to easy-install.pth file\n",
            "Installing pt2to3 script to /usr/local/bin\n",
            "Installing ptdump script to /usr/local/bin\n",
            "Installing ptrepack script to /usr/local/bin\n",
            "Installing pttree script to /usr/local/bin\n",
            "\n",
            "Using /usr/local/lib/python3.7/dist-packages\n",
            "Searching for numba==0.51.1\n",
            "Best match: numba 0.51.1\n",
            "Adding numba 0.51.1 to easy-install.pth file\n",
            "\n",
            "Using /usr/local/lib/python3.7/dist-packages\n",
            "Searching for certifi==2021.5.30\n",
            "Best match: certifi 2021.5.30\n",
            "Adding certifi 2021.5.30 to easy-install.pth file\n",
            "\n",
            "Using /usr/local/lib/python3.7/dist-packages\n",
            "Searching for PyYAML==3.13\n",
            "Best match: PyYAML 3.13\n",
            "Adding PyYAML 3.13 to easy-install.pth file\n",
            "\n",
            "Using /usr/local/lib/python3.7/dist-packages\n",
            "Searching for opencv-python-headless==3.4.9.33\n",
            "Best match: opencv-python-headless 3.4.9.33\n",
            "Adding opencv-python-headless 3.4.9.33 to easy-install.pth file\n",
            "\n",
            "Using /usr/local/lib/python3.7/dist-packages\n",
            "Searching for filterpy==1.4.5\n",
            "Best match: filterpy 1.4.5\n",
            "Adding filterpy 1.4.5 to easy-install.pth file\n",
            "\n",
            "Using /usr/local/lib/python3.7/dist-packages\n",
            "Searching for click==7.1.2\n",
            "Best match: click 7.1.2\n",
            "Adding click 7.1.2 to easy-install.pth file\n",
            "\n",
            "Using /usr/local/lib/python3.7/dist-packages\n",
            "Searching for chardet==3.0.4\n",
            "Best match: chardet 3.0.4\n",
            "Adding chardet 3.0.4 to easy-install.pth file\n",
            "Installing chardetect script to /usr/local/bin\n",
            "\n",
            "Using /usr/local/lib/python3.7/dist-packages\n",
            "Searching for moviepy==0.2.3.5\n",
            "Best match: moviepy 0.2.3.5\n",
            "Adding moviepy 0.2.3.5 to easy-install.pth file\n",
            "\n",
            "Using /usr/local/lib/python3.7/dist-packages\n",
            "Searching for ipython==5.5.0\n",
            "Best match: ipython 5.5.0\n",
            "Adding ipython 5.5.0 to easy-install.pth file\n",
            "Installing iptest script to /usr/local/bin\n",
            "Installing iptest3 script to /usr/local/bin\n",
            "Installing ipython script to /usr/local/bin\n",
            "Installing ipython3 script to /usr/local/bin\n",
            "\n",
            "Using /usr/local/lib/python3.7/dist-packages\n",
            "Searching for wheel==0.36.2\n",
            "Best match: wheel 0.36.2\n",
            "Adding wheel 0.36.2 to easy-install.pth file\n",
            "Installing wheel script to /usr/local/bin\n",
            "\n",
            "Using /usr/local/lib/python3.7/dist-packages\n",
            "Searching for ruamel.yaml==0.17.10\n",
            "Best match: ruamel.yaml 0.17.10\n",
            "Adding ruamel.yaml 0.17.10 to easy-install.pth file\n",
            "\n",
            "Using /usr/local/lib/python3.7/dist-packages\n",
            "Searching for Keras-Preprocessing==1.1.2\n",
            "Best match: Keras-Preprocessing 1.1.2\n",
            "Adding Keras-Preprocessing 1.1.2 to easy-install.pth file\n",
            "\n",
            "Using /usr/local/lib/python3.7/dist-packages\n",
            "Searching for tifffile==2021.7.2\n",
            "Best match: tifffile 2021.7.2\n",
            "Adding tifffile 2021.7.2 to easy-install.pth file\n",
            "Installing lsm2bin script to /usr/local/bin\n",
            "Installing tiff2fsspec script to /usr/local/bin\n",
            "Installing tiffcomment script to /usr/local/bin\n",
            "Installing tifffile script to /usr/local/bin\n",
            "\n",
            "Using /usr/local/lib/python3.7/dist-packages\n",
            "Searching for PyWavelets==1.1.1\n",
            "Best match: PyWavelets 1.1.1\n",
            "Adding PyWavelets 1.1.1 to easy-install.pth file\n",
            "\n",
            "Using /usr/local/lib/python3.7/dist-packages\n",
            "Searching for joblib==1.0.1\n",
            "Best match: joblib 1.0.1\n",
            "Adding joblib 1.0.1 to easy-install.pth file\n",
            "\n",
            "Using /usr/local/lib/python3.7/dist-packages\n",
            "Searching for cached-property==1.5.2\n",
            "Best match: cached-property 1.5.2\n",
            "Adding cached-property 1.5.2 to easy-install.pth file\n",
            "\n",
            "Using /usr/local/lib/python3.7/dist-packages\n",
            "Searching for msgpack-numpy==0.4.7.1\n",
            "Best match: msgpack-numpy 0.4.7.1\n",
            "Adding msgpack-numpy 0.4.7.1 to easy-install.pth file\n",
            "\n",
            "Using /usr/local/lib/python3.7/dist-packages\n",
            "Searching for psutil==5.4.8\n",
            "Best match: psutil 5.4.8\n",
            "Adding psutil 5.4.8 to easy-install.pth file\n",
            "\n",
            "Using /usr/local/lib/python3.7/dist-packages\n",
            "Searching for tabulate==0.8.9\n",
            "Best match: tabulate 0.8.9\n",
            "Adding tabulate 0.8.9 to easy-install.pth file\n",
            "Installing tabulate script to /usr/local/bin\n",
            "\n",
            "Using /usr/local/lib/python3.7/dist-packages\n",
            "Searching for pyzmq==22.1.0\n",
            "Best match: pyzmq 22.1.0\n",
            "Adding pyzmq 22.1.0 to easy-install.pth file\n",
            "\n",
            "Using /usr/local/lib/python3.7/dist-packages\n",
            "Searching for termcolor==1.1.0\n",
            "Best match: termcolor 1.1.0\n",
            "Adding termcolor 1.1.0 to easy-install.pth file\n",
            "\n",
            "Using /usr/local/lib/python3.7/dist-packages\n",
            "Searching for msgpack==1.0.2\n",
            "Best match: msgpack 1.0.2\n",
            "Adding msgpack 1.0.2 to easy-install.pth file\n",
            "\n",
            "Using /usr/local/lib/python3.7/dist-packages\n",
            "Searching for decorator==4.4.2\n",
            "Best match: decorator 4.4.2\n",
            "Adding decorator 4.4.2 to easy-install.pth file\n",
            "\n",
            "Using /usr/local/lib/python3.7/dist-packages\n",
            "Searching for numexpr==2.7.3\n",
            "Best match: numexpr 2.7.3\n",
            "Adding numexpr 2.7.3 to easy-install.pth file\n",
            "\n",
            "Using /usr/local/lib/python3.7/dist-packages\n",
            "Searching for llvmlite==0.34.0\n",
            "Best match: llvmlite 0.34.0\n",
            "Adding llvmlite 0.34.0 to easy-install.pth file\n",
            "\n",
            "Using /usr/local/lib/python3.7/dist-packages\n",
            "Searching for pickleshare==0.7.5\n",
            "Best match: pickleshare 0.7.5\n",
            "Adding pickleshare 0.7.5 to easy-install.pth file\n",
            "\n",
            "Using /usr/local/lib/python3.7/dist-packages\n",
            "Searching for simplegeneric==0.8.1\n",
            "Best match: simplegeneric 0.8.1\n",
            "Adding simplegeneric 0.8.1 to easy-install.pth file\n",
            "\n",
            "Using /usr/local/lib/python3.7/dist-packages\n",
            "Searching for prompt-toolkit==1.0.18\n",
            "Best match: prompt-toolkit 1.0.18\n",
            "Adding prompt-toolkit 1.0.18 to easy-install.pth file\n",
            "\n",
            "Using /usr/local/lib/python3.7/dist-packages\n",
            "Searching for Pygments==2.6.1\n",
            "Best match: Pygments 2.6.1\n",
            "Adding Pygments 2.6.1 to easy-install.pth file\n",
            "Installing pygmentize script to /usr/local/bin\n",
            "\n",
            "Using /usr/local/lib/python3.7/dist-packages\n",
            "Searching for traitlets==5.0.5\n",
            "Best match: traitlets 5.0.5\n",
            "Adding traitlets 5.0.5 to easy-install.pth file\n",
            "\n",
            "Using /usr/local/lib/python3.7/dist-packages\n",
            "Searching for pexpect==4.8.0\n",
            "Best match: pexpect 4.8.0\n",
            "Adding pexpect 4.8.0 to easy-install.pth file\n",
            "\n",
            "Using /usr/local/lib/python3.7/dist-packages\n",
            "Searching for ruamel.yaml.clib==0.2.6\n",
            "Best match: ruamel.yaml.clib 0.2.6\n",
            "Adding ruamel.yaml.clib 0.2.6 to easy-install.pth file\n",
            "\n",
            "Using /usr/local/lib/python3.7/dist-packages\n",
            "Searching for wcwidth==0.2.5\n",
            "Best match: wcwidth 0.2.5\n",
            "Adding wcwidth 0.2.5 to easy-install.pth file\n",
            "\n",
            "Using /usr/local/lib/python3.7/dist-packages\n",
            "Searching for ptyprocess==0.7.0\n",
            "Best match: ptyprocess 0.7.0\n",
            "Adding ptyprocess 0.7.0 to easy-install.pth file\n",
            "\n",
            "Using /usr/local/lib/python3.7/dist-packages\n",
            "Finished processing dependencies for mesonet==1.0.3\n",
            "Collecting opencv-python==4.4.0.46\n",
            "\u001b[?25l  Downloading https://files.pythonhosted.org/packages/1b/2d/62eba161d3d713e1720504de1c25d439b02c85159804d9ecead10be5d87e/opencv_python-4.4.0.46-cp37-cp37m-manylinux2014_x86_64.whl (49.5MB)\n",
            "\u001b[K     |████████████████████████████████| 49.5MB 67kB/s \n",
            "\u001b[?25hRequirement already satisfied: numpy>=1.14.5 in /usr/local/lib/python3.7/dist-packages (from opencv-python==4.4.0.46) (1.17.5)\n",
            "\u001b[31mERROR: albumentations 0.1.12 has requirement imgaug<0.2.7,>=0.2.5, but you'll have imgaug 0.2.9 which is incompatible.\u001b[0m\n",
            "\u001b[31mERROR: mesonet 1.0.3 has requirement keras==2.3.1, but you'll have keras 2.4.3 which is incompatible.\u001b[0m\n",
            "Installing collected packages: opencv-python\n",
            "  Found existing installation: opencv-python 4.1.2.30\n",
            "    Uninstalling opencv-python-4.1.2.30:\n",
            "      Successfully uninstalled opencv-python-4.1.2.30\n",
            "Successfully installed opencv-python-4.4.0.46\n",
            "Collecting h5py==2.10.0\n",
            "\u001b[?25l  Downloading https://files.pythonhosted.org/packages/3f/c0/abde58b837e066bca19a3f7332d9d0493521d7dd6b48248451a9e3fe2214/h5py-2.10.0-cp37-cp37m-manylinux1_x86_64.whl (2.9MB)\n",
            "\u001b[K     |████████████████████████████████| 2.9MB 35.2MB/s \n",
            "\u001b[?25hRequirement already satisfied: six in /usr/local/lib/python3.7/dist-packages (from h5py==2.10.0) (1.15.0)\n",
            "Requirement already satisfied: numpy>=1.7 in /usr/local/lib/python3.7/dist-packages (from h5py==2.10.0) (1.17.5)\n",
            "\u001b[31mERROR: tensorflow 2.5.0 has requirement h5py~=3.1.0, but you'll have h5py 2.10.0 which is incompatible.\u001b[0m\n",
            "\u001b[31mERROR: tensorflow 2.5.0 has requirement numpy~=1.19.2, but you'll have numpy 1.17.5 which is incompatible.\u001b[0m\n",
            "\u001b[31mERROR: kapre 0.3.5 has requirement numpy>=1.18.5, but you'll have numpy 1.17.5 which is incompatible.\u001b[0m\n",
            "\u001b[31mERROR: mesonet 1.0.3 has requirement keras==2.3.1, but you'll have keras 2.4.3 which is incompatible.\u001b[0m\n",
            "Installing collected packages: h5py\n",
            "  Found existing installation: h5py 3.1.0\n",
            "    Uninstalling h5py-3.1.0:\n",
            "      Successfully uninstalled h5py-3.1.0\n",
            "Successfully installed h5py-2.10.0\n"
          ],
          "name": "stdout"
        }
      ]
    },
    {
      "cell_type": "markdown",
      "metadata": {
        "id": "uX2xRSlOG8BW"
      },
      "source": [
        "Because of how DeepLabCut operates, you now need to restart your runtime (under the Runtime menu)."
      ]
    },
    {
      "cell_type": "code",
      "metadata": {
        "id": "UlkSR2Y1DMt-",
        "outputId": "41509315-26c8-4690-e626-7ad532e8400e",
        "colab": {
          "base_uri": "https://localhost:8080/"
        }
      },
      "source": [
        "# Use tensorflow 1.x (supported by DeepLabCut)\n",
        "%tensorflow_version 1.x\n",
        "import tensorflow\n",
        "import os\n",
        "print(tensorflow.__version__)"
      ],
      "execution_count": 1,
      "outputs": [
        {
          "output_type": "stream",
          "text": [
            "TensorFlow 1.x selected.\n",
            "1.15.2\n"
          ],
          "name": "stdout"
        }
      ]
    },
    {
      "cell_type": "markdown",
      "metadata": {
        "id": "wyqTdwum9zFL"
      },
      "source": [
        "We will now pull information from the OSF repository containing the DeepLabCut and U-Net models for our code."
      ]
    },
    {
      "cell_type": "code",
      "metadata": {
        "id": "oEycrQjx9yeS",
        "outputId": "47c33269-1250-4cde-c57f-08ec3523a6e7",
        "colab": {
          "base_uri": "https://localhost:8080/"
        }
      },
      "source": [
        "!pip install osfclient"
      ],
      "execution_count": 2,
      "outputs": [
        {
          "output_type": "stream",
          "text": [
            "Collecting osfclient\n",
            "  Downloading https://files.pythonhosted.org/packages/a8/7a/8d6fe30d424329ced46a738faaea4150efb8eee656599b88a791cf7ad07e/osfclient-0.0.5-py2.py3-none-any.whl\n",
            "Requirement already satisfied: requests in /usr/local/lib/python3.7/dist-packages (from osfclient) (2.23.0)\n",
            "Requirement already satisfied: tqdm in /usr/local/lib/python3.7/dist-packages (from osfclient) (4.41.1)\n",
            "Requirement already satisfied: six in /usr/local/lib/python3.7/dist-packages (from osfclient) (1.15.0)\n",
            "Requirement already satisfied: chardet<4,>=3.0.2 in /usr/local/lib/python3.7/dist-packages (from requests->osfclient) (3.0.4)\n",
            "Requirement already satisfied: urllib3!=1.25.0,!=1.25.1,<1.26,>=1.21.1 in /usr/local/lib/python3.7/dist-packages (from requests->osfclient) (1.24.3)\n",
            "Requirement already satisfied: certifi>=2017.4.17 in /usr/local/lib/python3.7/dist-packages (from requests->osfclient) (2021.5.30)\n",
            "Requirement already satisfied: idna<3,>=2.5 in /usr/local/lib/python3.7/dist-packages (from requests->osfclient) (2.10)\n",
            "Installing collected packages: osfclient\n",
            "Successfully installed osfclient-0.0.5\n"
          ],
          "name": "stdout"
        }
      ]
    },
    {
      "cell_type": "code",
      "metadata": {
        "id": "_nHcGUo5-RZ6",
        "outputId": "cb42ed5c-ba7c-4eef-e2f3-16c573a52e7b",
        "colab": {
          "base_uri": "https://localhost:8080/"
        }
      },
      "source": [
        "%cd /content/\n",
        "!osf -p svztu fetch 6_Landmark_estimation_model/atlas-DongshengXiao-2020-08-03.zip mesonet_inputs/atlas-DongshengXiao-2020-08-03.zip"
      ],
      "execution_count": 3,
      "outputs": [
        {
          "output_type": "stream",
          "text": [
            "/content\n",
            "100% 643M/643M [00:02<00:00, 226Mbytes/s]\n"
          ],
          "name": "stdout"
        }
      ]
    },
    {
      "cell_type": "code",
      "metadata": {
        "id": "gfMh09FNB8KX"
      },
      "source": [
        "!unzip -q mesonet_inputs/atlas-DongshengXiao-2020-08-03.zip -d /content/mesonet_inputs"
      ],
      "execution_count": 4,
      "outputs": []
    },
    {
      "cell_type": "code",
      "metadata": {
        "id": "OmNgWKOJA4Ou",
        "outputId": "86579542-d3f7-4972-dd0b-17e65202f970",
        "colab": {
          "base_uri": "https://localhost:8080/"
        }
      },
      "source": [
        "%cd /content/\n",
        "!osf -p svztu fetch 7_U-Net_model/DongshengXiao_brain_bundary.hdf5 MesoNet/mesonet/models/DongshengXiao_brain_bundary.hdf5"
      ],
      "execution_count": 5,
      "outputs": [
        {
          "output_type": "stream",
          "text": [
            "/content\n",
            "100% 373M/373M [00:02<00:00, 129Mbytes/s]\n"
          ],
          "name": "stdout"
        }
      ]
    },
    {
      "cell_type": "code",
      "metadata": {
        "id": "Rnudgt6I6FTx",
        "outputId": "1b92ebd5-5528-4bd4-af48-6cd77d79b9cc",
        "colab": {
          "base_uri": "https://localhost:8080/"
        }
      },
      "source": [
        "%cd /content/\n",
        "!osf -p svztu fetch 8_VoxelMorph_model/VoxelMorph_Motif_based_functional_map_model_transformed1000.h5 mesonet_inputs/oxelMorph_Motif_based_functional_map_model_transformed1000.h5"
      ],
      "execution_count": 6,
      "outputs": [
        {
          "output_type": "stream",
          "text": [
            "/content\n",
            "100% 1.51M/1.51M [00:00<00:00, 132Mbytes/s]\n"
          ],
          "name": "stdout"
        }
      ]
    },
    {
      "cell_type": "markdown",
      "metadata": {
        "id": "_oGLDOuKtKqI"
      },
      "source": [
        "# Five ways to use MesoNet\n",
        "\n",
        "MesoNet can be used through five approaches:\n",
        "1. **Atlas to brain**: Given a pre-trained DeepLabCut model that was trained to associate anatomical landmarks with corresponding points on atlases of brain regions, register an atlas of brain regions to the fixed brain imaging data using affine transformations. This approach is useful if your data has common anatomical landmarks and is the most robust to variations in image quality and orientation within your data.\n",
        "2. **Brain to atlas**: Given a pre-trained DeepLabCut model that was trained to associate anatomical landmarks with corresponding points on atlases of brain regions, the brain imaging data to a fixed atlas of brain regions using affine transformations. This approach is useful if you would like to normalize your brain images to a common template based on anatomical landmarks.\n",
        "3. **Atlas to brain + sensory maps**: Given a pre-trained DeepLabCut model that was trained to associate anatomical landmarks with corresponding points on atlases of brain regions as well as a set of folders containing functional brain activity for that animal that is consistent across animals, register an atlas of brain regions to the fixed brain imaging data using affine transformations. This approach is useful if you have consistent peaks of functional activity across animals that you would like to use in the alignment processes.\n",
        "4. **Motif-based functional maps (MBFMs) + U-Net**: Given a pre-trained U-Net model that was trained to associate brain imaging data with atlases of brain regions, predict the locations of brain regions in the data without the use of landmarks. The brain imaging data should be motif-based functional maps (MBFMs) calculated using the associated MATLAB code (using seqNMF). This approach is useful if one wishes to mark functional regions based on more complex features of the data (e.g. a motif-based functional map) than landmarks.\n",
        "5. **Motif-based functional maps (MBFMs) + Brain-to-atlas + VoxelMorph**: Given a pre-trained VoxelMorph model that was trained to compute a non-linear transformation between a template functional brain atlas and brain image data, predict the locations of brain regions in the data. In particular, this approach can register each input brain image to a user-defined template functional atlas. The brain imaging data should be motif-based functional maps (MBFMs) calculated using the associated MATLAB code (using seqNMF). This approach is useful if your images are consistently oriented and you want to compare the predicted locations of brain regions across different images.\n",
        "\n",
        "We will now copy over some sample input images for each of these five pipelines from OSF to our inputs folder. If, instead, you would like to upload your own images create a folder inside `mesonet_inputs` and put your images inside that folder; then, skip the next cell."
      ]
    },
    {
      "cell_type": "code",
      "metadata": {
        "id": "gpXToLmIKx3o",
        "outputId": "b6d290cd-6721-4d70-a532-6913c4e9c7ea",
        "colab": {
          "base_uri": "https://localhost:8080/"
        }
      },
      "source": [
        "%cd /content/\n",
        "# Pipeline 1 + 2\n",
        "!osf -p svztu fetch 0_Example_data/Automated_pipeline_sample_data/pipeline1_2/0.png mesonet_inputs/pipeline1_2/0.png\n",
        "!osf -p svztu fetch 0_Example_data/Automated_pipeline_sample_data/pipeline1_2/1.png mesonet_inputs/pipeline1_2/1.png\n",
        "\n",
        "# Pipeline 3\n",
        "!osf -p svztu fetch 0_Example_data/Automated_pipeline_sample_data/pipeline3_sensory/sensory_maps/1/tail.png mesonet_inputs/pipeline3_sensory/sensory_maps/1/tail.png\n",
        "!osf -p svztu fetch 0_Example_data/Automated_pipeline_sample_data/pipeline3_sensory/sensory_maps/1/visual.png mesonet_inputs/pipeline3_sensory/sensory_maps/1/visual.png\n",
        "!osf -p svztu fetch 0_Example_data/Automated_pipeline_sample_data/pipeline3_sensory/sensory_maps/1/whisker.png mesonet_inputs/pipeline3_sensory/sensory_maps/1/whisker.png\n",
        "!osf -p svztu fetch 0_Example_data/Automated_pipeline_sample_data/pipeline3_sensory/sensory_maps/2/tail.png mesonet_inputs/pipeline3_sensory/sensory_maps/2/tail.png\n",
        "!osf -p svztu fetch 0_Example_data/Automated_pipeline_sample_data/pipeline3_sensory/sensory_maps/2/visual.png mesonet_inputs/pipeline3_sensory/sensory_maps/2/visual.png\n",
        "!osf -p svztu fetch 0_Example_data/Automated_pipeline_sample_data/pipeline3_sensory/sensory_maps/2/whisker.png mesonet_inputs/pipeline3_sensory/sensory_maps/2/whisker.png\n",
        "!osf -p svztu fetch 0_Example_data/Automated_pipeline_sample_data/pipeline3_sensory/sensory_maps/3/tail.png mesonet_inputs/pipeline3_sensory/sensory_maps/3/tail.png\n",
        "!osf -p svztu fetch 0_Example_data/Automated_pipeline_sample_data/pipeline3_sensory/sensory_maps/3/visual.png mesonet_inputs/pipeline3_sensory/sensory_maps/3/visual.png\n",
        "!osf -p svztu fetch 0_Example_data/Automated_pipeline_sample_data/pipeline3_sensory/sensory_maps/3/whisker.png mesonet_inputs/pipeline3_sensory/sensory_maps/3/whisker.png\n",
        "!osf -p svztu fetch 0_Example_data/Automated_pipeline_sample_data/pipeline3_sensory/sensory_raw/1.png mesonet_inputs/pipeline3_sensory/sensory_raw/1.png\n",
        "!osf -p svztu fetch 0_Example_data/Automated_pipeline_sample_data/pipeline3_sensory/sensory_raw/2.png mesonet_inputs/pipeline3_sensory/sensory_raw/2.png\n",
        "!osf -p svztu fetch 0_Example_data/Automated_pipeline_sample_data/pipeline3_sensory/sensory_raw/3.png mesonet_inputs/pipeline3_sensory/sensory_raw/3.png\n",
        "\n",
        "# Pipeline 4\n",
        "!osf -p svztu fetch 0_Example_data/Automated_pipeline_sample_data/pipeline4_MBFM-U-Net/sensory_raw/0.png mesonet_inputs/pipeline4_MBFM-U-Net/0.png\n",
        "!osf -p svztu fetch 0_Example_data/Automated_pipeline_sample_data/pipeline4_MBFM-U-Net/sensory_raw/1.png mesonet_inputs/pipeline4_MBFM-U-Net/1.png\n",
        "!osf -p svztu fetch 0_Example_data/Automated_pipeline_sample_data/pipeline4_MBFM-U-Net/sensory_raw/2.png mesonet_inputs/pipeline4_MBFM-U-Net/2.png\n",
        "!osf -p svztu fetch 0_Example_data/Automated_pipeline_sample_data/pipeline4_MBFM-U-Net/sensory_raw/3.png mesonet_inputs/pipeline4_MBFM-U-Net/3.png\n",
        "\n",
        "# Pipeline 5\n",
        "!osf -p svztu fetch 0_Example_data/Automated_pipeline_sample_data/pipeline5_VoxelMorph/0.png mesonet_inputs/pipeline5_VoxelMorph/0.png\n",
        "!osf -p svztu fetch 0_Example_data/Automated_pipeline_sample_data/pipeline5_VoxelMorph/1.png mesonet_inputs/pipeline5_VoxelMorph/1.png"
      ],
      "execution_count": 7,
      "outputs": [
        {
          "output_type": "stream",
          "text": [
            "/content\n",
            "100% 6.88k/6.88k [00:00<00:00, 22.4Mbytes/s]\n",
            "100% 7.04k/7.04k [00:00<00:00, 21.5Mbytes/s]\n",
            "100% 137k/137k [00:00<00:00, 93.9Mbytes/s]\n",
            "100% 127k/127k [00:00<00:00, 89.8Mbytes/s]\n",
            "100% 128k/128k [00:00<00:00, 55.8Mbytes/s]\n",
            "100% 135k/135k [00:00<00:00, 105Mbytes/s]\n",
            "100% 120k/120k [00:00<00:00, 104Mbytes/s]\n",
            "100% 126k/126k [00:00<00:00, 90.6Mbytes/s]\n",
            "100% 157k/157k [00:00<00:00, 110Mbytes/s]\n",
            "100% 167k/167k [00:00<00:00, 92.1Mbytes/s]\n",
            "100% 146k/146k [00:00<00:00, 84.6Mbytes/s]\n",
            "100% 13.4k/13.4k [00:00<00:00, 34.9Mbytes/s]\n",
            "100% 13.8k/13.8k [00:00<00:00, 37.2Mbytes/s]\n",
            "100% 13.8k/13.8k [00:00<00:00, 39.9Mbytes/s]\n",
            "100% 6.88k/6.88k [00:00<00:00, 24.1Mbytes/s]\n"
          ],
          "name": "stdout"
        }
      ]
    },
    {
      "cell_type": "markdown",
      "metadata": {
        "id": "hActhRFLDl9o"
      },
      "source": [
        "Now, input the information about your input and output images, as well as the U-Net and DeepLabCut models that you would like to use. The default values will use the test data that we've included in the MesoNet git repository (in `MesoNet/mesonet/tests/test_input`). If you're using your own input data, replace `input_filename` below with the name of a folder in `mesonet_inputs` containing your input data."
      ]
    },
    {
      "cell_type": "code",
      "metadata": {
        "id": "ZXx8XqLH1wSb"
      },
      "source": [
        "#@title Input information for the model\n",
        "input_file_name = 'pipeline1_2'  #@param {type: \"string\"}\n",
        "input_file_sensory_raw_name = 'sensory_raw'  #@param {type: \"string\"}\n",
        "input_file_sensory_maps_name = 'sensory_maps'  #@param {type: \"string\"}\n",
        "input_file_MBFM_name = 'pipeline4_MBFM-U-Net'  #@param {type: \"string\"}\n",
        "input_file_voxelmorph_name = 'pipeline5_VoxelMorph'  #@param {type: \"string\"}\n",
        "\n",
        "output_file_atlas_brain_name = 'mesonet_output_atlas_brain'  #@param {type: \"string\"}\n",
        "output_file_brain_atlas_name = 'mesonet_output_brain_atlas'  #@param {type: \"string\"}\n",
        "output_file_sensory_name = 'mesonet_output_sensory'  #@param {type: \"string\"}\n",
        "output_file_MBFM_U_Net_name = 'mesonet_output_MBFM_U_Net'  #@param {type: \"string\"}\n",
        "output_file_voxelmorph_name = 'mesonet_output_voxelmorph'  #@param {type: \"string\"}\n",
        "\n",
        "model_name = 'DongshengXiao_brain_bundary.hdf5' #@param {type: \"string\"}\n",
        "dlc_model_name = 'atlas-DongshengXiao-2020-08-03'  #@param {type: \"string\"}\n",
        "voxelmorph_model_name = 'oxelMorph_Motif_based_functional_map_model_transformed1000.h5'  #@param {type: \"string\"}"
      ],
      "execution_count": 8,
      "outputs": []
    },
    {
      "cell_type": "code",
      "metadata": {
        "id": "sO5rzOEE20vz"
      },
      "source": [
        "# Set up filepaths based on your inputs\n",
        "input_file = os.path.join('/content','mesonet_inputs', input_file_name)\n",
        "input_file_sensory_raw = os.path.join('/content','mesonet_inputs', input_file_sensory_raw_name)\n",
        "input_file_sensory_maps = os.path.join('/content','mesonet_inputs', input_file_sensory_maps_name)\n",
        "input_file_MBFM = os.path.join('/content','mesonet_inputs', input_file_MBFM_name)\n",
        "input_file_voxelmorph = os.path.join('/content','mesonet_inputs', input_file_voxelmorph_name)\n",
        "\n",
        "output_file_atlas_brain = os.path.join('/content','mesonet_outputs', output_file_atlas_brain_name)\n",
        "output_file_brain_atlas = os.path.join('/content','mesonet_outputs', output_file_brain_atlas_name)\n",
        "output_file_sensory = os.path.join('/content','mesonet_outputs', output_file_sensory_name)\n",
        "output_file_MBFM_U_Net = os.path.join('/content','mesonet_outputs', output_file_MBFM_U_Net_name)\n",
        "output_file_voxelmorph = os.path.join('/content','mesonet_outputs', output_file_voxelmorph_name)\n",
        "\n",
        "model = os.path.join('/content', 'MesoNet', 'mesonet', 'models', model_name)\n",
        "voxelmorph_model = os.path.join('/content','mesonet_inputs', voxelmorph_model_name)\n",
        "dlc_config = os.path.join('/content','mesonet_inputs', dlc_model_name, 'config.yaml')"
      ],
      "execution_count": 9,
      "outputs": []
    },
    {
      "cell_type": "code",
      "metadata": {
        "id": "8hv6LzKSC_v8"
      },
      "source": [
        "!mkdir '/content/mesonet_outputs/mesonet_outputs_atlas_brain'\n",
        "!mkdir '/content/mesonet_outputs/mesonet_outputs_brain_atlas'\n",
        "!mkdir '/content/mesonet_outputs/mesonet_outputs_sensory'\n",
        "!mkdir '/content/mesonet_outputs/mesonet_outputs_MBFM_U_Net'\n",
        "!mkdir '/content/mesonet_outputs/mesonet_outputs_voxelmorph'"
      ],
      "execution_count": 13,
      "outputs": []
    },
    {
      "cell_type": "markdown",
      "metadata": {
        "id": "JLul3lSb3WmY"
      },
      "source": [
        "Now that we've told Colab where to find the input and output folders, let's define the configuration file!"
      ]
    },
    {
      "cell_type": "markdown",
      "metadata": {
        "id": "OM1CKImF0OSo"
      },
      "source": [
        "# Configure MesoNet"
      ]
    },
    {
      "cell_type": "code",
      "metadata": {
        "id": "h_x_r_X2SLXS"
      },
      "source": [
        "# Set this environment variable to help MesoNet find the git repo location\n",
        "os.environ[\"MESONET_GIT\"]='/content/MesoNet/mesonet/'"
      ],
      "execution_count": 11,
      "outputs": []
    },
    {
      "cell_type": "code",
      "metadata": {
        "id": "7tbS1rlK3Osl",
        "outputId": "bc1b1ec5-9ce0-4e63-f180-5b310fbd6202",
        "colab": {
          "base_uri": "https://localhost:8080/",
          "height": 436
        }
      },
      "source": [
        "# We need to make sure that DeepLabCut doesn't run with a GUI (which isn't\n",
        "# supported in Colab).\n",
        "os.environ[\"DLClight\"]=\"True\"\n",
        "\n",
        "# Import mesonet and define the configuration file for each pipeline\n",
        "import mesonet\n",
        "## 1. Atlas to brain\n",
        "# Atlas-to-brain warp with U-Net and DeepLabCut\n",
        "print('1. Atlas-to-brain warp with U-Net and DeepLabCut')\n",
        "config_file_atlas_brain = mesonet.config_project(input_file, output_file_atlas_brain, 'test', \n",
        "                                                 atlas_to_brain_align=True, use_voxelmorph=False, \n",
        "                                                 use_unet=True, use_dlc=True, \n",
        "                                                 sensory_match=False, mat_save=False, \n",
        "                                                 config=dlc_config, model=model)\n",
        "\n",
        "## 2. Brain to atlas\n",
        "# Brain-to-atlas warp with DeepLabCut\n",
        "print('2. Brain-to-atlas warp with DeepLabCut')\n",
        "config_file_brain_atlas = mesonet.config_project(input_file, output_file_brain_atlas, 'test', \n",
        "                                                 atlas_to_brain_align=False, use_voxelmorph=False, \n",
        "                                                 use_unet=False, use_dlc=True, sensory_match=False, \n",
        "                                                 mat_save=False, olfactory_check=False, \n",
        "                                                 config=dlc_config)\n",
        "\n",
        "## 3. Atlas to brain + sensory\n",
        "# Atlas-to-brain warp with U-Net, DeepLabCut, and sensory maps\n",
        "print('3. Atlas-to-brain warp with U-Net, DeepLabCut, and sensory maps')\n",
        "config_file_sensory = mesonet.config_project(input_file_sensory_raw, output_file_sensory, 'test',\n",
        "                                             atlas_to_brain_align=True, use_voxelmorph=False, \n",
        "                                             use_unet=True, use_dlc=True, sensory_match=True, \n",
        "                                             sensory_path=input_file_sensory_maps, mat_save=False, \n",
        "                                             config=dlc_config, model=model)\n",
        "\n",
        "## 4. MBFM + U-Net\n",
        "# Motif-based functional maps (MBFMs) with atlas directly applied using U-Net\n",
        "print('4. Motif-based functional maps (MBFMs) with atlas directly applied using U-Net')\n",
        "config_file_MBFM_U_Net = mesonet.config_project(input_file_MBFM, output_file_MBFM_U_Net, 'test', \n",
        "                                                atlas_to_brain_align=True, use_voxelmorph=False, \n",
        "                                                use_unet=True, use_dlc=False, sensory_match=False, \n",
        "                                                mat_save=False, mask_generate=False, \n",
        "                                                config=dlc_config, model=u_net_only_model)\n",
        "\n",
        "## 5. VoxelMorph\n",
        "# Local deformation warp with VoxelMorph and DeepLabCut\n",
        "print('5. Local deformation warp with VoxelMorph and DeepLabCut')\n",
        "config_file_voxelmorph = mesonet.config_project(input_file_voxelmorph, output_file_voxelmorph, 'test', \n",
        "                                                atlas_to_brain_align=False, use_voxelmorph=True, \n",
        "                                                use_unet=False, use_dlc=True, sensory_match=False, mat_save=False, \n",
        "                                                config=dlc_config, model=model, \n",
        "                                                align_once=True, olfactory_check=False, \n",
        "                                                voxelmorph_model=voxelmorph_model)"
      ],
      "execution_count": 15,
      "outputs": [
        {
          "output_type": "stream",
          "text": [
            "1. Atlas-to-brain warp with U-Net and DeepLabCut\n",
            "/content/MesoNet/mesonet/\n"
          ],
          "name": "stdout"
        },
        {
          "output_type": "error",
          "ename": "FileNotFoundError",
          "evalue": "ignored",
          "traceback": [
            "\u001b[0;31m---------------------------------------------------------------------------\u001b[0m",
            "\u001b[0;31mFileNotFoundError\u001b[0m                         Traceback (most recent call last)",
            "\u001b[0;32m<ipython-input-15-869e7e715869>\u001b[0m in \u001b[0;36m<module>\u001b[0;34m()\u001b[0m\n\u001b[1;32m     12\u001b[0m                                                  \u001b[0muse_unet\u001b[0m\u001b[0;34m=\u001b[0m\u001b[0;32mTrue\u001b[0m\u001b[0;34m,\u001b[0m \u001b[0muse_dlc\u001b[0m\u001b[0;34m=\u001b[0m\u001b[0;32mTrue\u001b[0m\u001b[0;34m,\u001b[0m\u001b[0;34m\u001b[0m\u001b[0;34m\u001b[0m\u001b[0m\n\u001b[1;32m     13\u001b[0m                                                  \u001b[0msensory_match\u001b[0m\u001b[0;34m=\u001b[0m\u001b[0;32mFalse\u001b[0m\u001b[0;34m,\u001b[0m \u001b[0mmat_save\u001b[0m\u001b[0;34m=\u001b[0m\u001b[0;32mFalse\u001b[0m\u001b[0;34m,\u001b[0m\u001b[0;34m\u001b[0m\u001b[0;34m\u001b[0m\u001b[0m\n\u001b[0;32m---> 14\u001b[0;31m                                                  config=dlc_config, model=model)\n\u001b[0m\u001b[1;32m     15\u001b[0m \u001b[0;34m\u001b[0m\u001b[0m\n\u001b[1;32m     16\u001b[0m \u001b[0;31m## 2. Brain to atlas\u001b[0m\u001b[0;34m\u001b[0m\u001b[0;34m\u001b[0m\u001b[0;34m\u001b[0m\u001b[0m\n",
            "\u001b[0;32m/usr/local/lib/python3.7/dist-packages/mesonet-1.0.3-py3.7.egg/mesonet/utils.py\u001b[0m in \u001b[0;36mconfig_project\u001b[0;34m(input_dir, output_dir, mode, model_name, config, atlas, sensory_match, sensory_path, mask_generate, mat_save, use_unet, use_dlc, atlas_to_brain_align, olfactory_check, plot_landmarks, align_once, original_label, use_voxelmorph, exist_transform, voxelmorph_model, template_path, flow_path, coords_input_file, atlas_label_list, threshold, model, region_labels, steps_per_epoch, epochs, rotation_range, width_shift_range, height_shift_range, shear_range, zoom_range, horizontal_flip, fill_mode)\u001b[0m\n\u001b[1;32m    199\u001b[0m         \u001b[0mconvert_to_png\u001b[0m\u001b[0;34m(\u001b[0m\u001b[0minput_dir\u001b[0m\u001b[0;34m)\u001b[0m\u001b[0;34m\u001b[0m\u001b[0;34m\u001b[0m\u001b[0m\n\u001b[1;32m    200\u001b[0m \u001b[0;34m\u001b[0m\u001b[0m\n\u001b[0;32m--> 201\u001b[0;31m     \u001b[0;32mwith\u001b[0m \u001b[0mopen\u001b[0m\u001b[0;34m(\u001b[0m\u001b[0mos\u001b[0m\u001b[0;34m.\u001b[0m\u001b[0mpath\u001b[0m\u001b[0;34m.\u001b[0m\u001b[0mjoin\u001b[0m\u001b[0;34m(\u001b[0m\u001b[0moutput_dir\u001b[0m\u001b[0;34m,\u001b[0m \u001b[0mfilename\u001b[0m\u001b[0;34m)\u001b[0m\u001b[0;34m,\u001b[0m \u001b[0;34m\"w\"\u001b[0m\u001b[0;34m)\u001b[0m \u001b[0;32mas\u001b[0m \u001b[0moutfile\u001b[0m\u001b[0;34m:\u001b[0m\u001b[0;34m\u001b[0m\u001b[0;34m\u001b[0m\u001b[0m\n\u001b[0m\u001b[1;32m    202\u001b[0m         \u001b[0myaml\u001b[0m\u001b[0;34m.\u001b[0m\u001b[0mdump\u001b[0m\u001b[0;34m(\u001b[0m\u001b[0mdata\u001b[0m\u001b[0;34m,\u001b[0m \u001b[0moutfile\u001b[0m\u001b[0;34m)\u001b[0m\u001b[0;34m\u001b[0m\u001b[0;34m\u001b[0m\u001b[0m\n\u001b[1;32m    203\u001b[0m \u001b[0;34m\u001b[0m\u001b[0m\n",
            "\u001b[0;31mFileNotFoundError\u001b[0m: [Errno 2] No such file or directory: '/content/mesonet_outputs/mesonet_output_atlas_brain/mesonet_test_config.yaml'"
          ]
        }
      ]
    },
    {
      "cell_type": "markdown",
      "metadata": {
        "id": "-wmSornuIcWr"
      },
      "source": [
        "The config file (by default in each of the output folders) contains information about how MesoNet will run for each pipeline. We'll be using these config files as an input to the last two functions needed to run MesoNet. \n",
        "\n",
        "Now, we will run each of the five pipelines in turn:\n",
        "\n"
      ]
    },
    {
      "cell_type": "markdown",
      "metadata": {
        "id": "Jb16iWZm0T9_"
      },
      "source": [
        "# Run MesoNet"
      ]
    },
    {
      "cell_type": "markdown",
      "metadata": {
        "id": "K6xYOJczyIUB"
      },
      "source": [
        "## Pipeline 1: Atlas-to-brain\n",
        "Firstly, we will identify the outer edges of the cortex:"
      ]
    },
    {
      "cell_type": "markdown",
      "metadata": {
        "id": "0uR1JWHR0Xa8"
      },
      "source": [
        "### Predict regions"
      ]
    },
    {
      "cell_type": "code",
      "metadata": {
        "id": "5nLe62A-843I"
      },
      "source": [
        "%cd /content/\n",
        "mesonet.predict_regions(config_file_atlas_brain)"
      ],
      "execution_count": null,
      "outputs": []
    },
    {
      "cell_type": "markdown",
      "metadata": {
        "id": "4FhQX6a189Zc"
      },
      "source": [
        "Next, we will identify and use cortical landmarks to align the atlas to the brain:"
      ]
    },
    {
      "cell_type": "markdown",
      "metadata": {
        "id": "qdkZHKo70bKX"
      },
      "source": [
        "### Predict landmarks"
      ]
    },
    {
      "cell_type": "code",
      "metadata": {
        "id": "eg1NLh3E9QTY"
      },
      "source": [
        "mesonet.predict_dlc(config_file_atlas_brain)"
      ],
      "execution_count": null,
      "outputs": []
    },
    {
      "cell_type": "markdown",
      "metadata": {
        "id": "C7lCpR53H3EO"
      },
      "source": [
        "Congratulations, you're all done with this first pipeline! You can now check the outputs in the `mesonet_output_atlas_brain` folder. The segmented brain data can be found in `mesonet_output_atlas_brain/output_overlay`.\n",
        "\n",
        "The following four pipelines will follow a similar pattern:"
      ]
    },
    {
      "cell_type": "markdown",
      "metadata": {
        "id": "o8Bbzh6wzcCU"
      },
      "source": [
        "## Pipeline 2: Brain-to-atlas\n",
        "This time, we will directly identify and use cortical landmarks to align the brain to the atlas:"
      ]
    },
    {
      "cell_type": "markdown",
      "metadata": {
        "id": "-E778cvgzngw"
      },
      "source": [
        "### Predict landmarks"
      ]
    },
    {
      "cell_type": "code",
      "metadata": {
        "id": "C2jjquarzp34"
      },
      "source": [
        "%cd /content/\n",
        "mesonet.predict_dlc(config_file_brain_atlas)"
      ],
      "execution_count": null,
      "outputs": []
    },
    {
      "cell_type": "markdown",
      "metadata": {
        "id": "74FqIOkDz-Qx"
      },
      "source": [
        "You can now check the outputs in the `mesonet_output_brain_atlas` folder. The segmented brain data can be found in `mesonet_output_brain_atlas/output_overlay`."
      ]
    },
    {
      "cell_type": "markdown",
      "metadata": {
        "id": "rkXNc2Ap0Gaw"
      },
      "source": [
        "## Pipeline 3: Atlas-to-Brain + sensory\n",
        "Now, we return to the Brain-to-Atlas approach while also using peaks of functional activity that are common across animals as a further alignment step."
      ]
    },
    {
      "cell_type": "markdown",
      "metadata": {
        "id": "FxYqk3Qy1K-w"
      },
      "source": [
        "### Predict regions"
      ]
    },
    {
      "cell_type": "code",
      "metadata": {
        "id": "xgz-lh-w1N8m"
      },
      "source": [
        "%cd /content/\n",
        "mesonet.predict_regions(config_file_sensory)"
      ],
      "execution_count": null,
      "outputs": []
    },
    {
      "cell_type": "markdown",
      "metadata": {
        "id": "v_9tcIor1PH1"
      },
      "source": [
        "### Predict landmarks"
      ]
    },
    {
      "cell_type": "code",
      "metadata": {
        "id": "AZC7PQ0c1Q2O"
      },
      "source": [
        "mesonet.predict_dlc(config_file_sensory)"
      ],
      "execution_count": null,
      "outputs": []
    },
    {
      "cell_type": "markdown",
      "metadata": {
        "id": "TqdDUZHi1ecN"
      },
      "source": [
        "You can now check the outputs in the `mesonet_output_sensory` folder. The segmented brain data can be found in `mesonet_output_sensory/output_overlay`."
      ]
    },
    {
      "cell_type": "markdown",
      "metadata": {
        "id": "yTFM4mFg19eE"
      },
      "source": [
        "## Pipeline 4: MBFM + U-Net\n",
        "Our input for this pipeline will be a set of motif-based functional maps (MBFMs) - brain images that summarize patterns of spatio-temporal activity that are common across animals. You can generate these using a MATLAB script running [seqNMF](https://github.com/FeeLab/seqNMF) - such a script is available in `4_Data_code/New_end_to_end_code` on our [OSF repository](https://osf.io/svztu/). We will then use a U-Net model to directly segment the brain image into functional regions - no need for atlas registration here!"
      ]
    },
    {
      "cell_type": "markdown",
      "metadata": {
        "id": "Ogr73HsT29_W"
      },
      "source": [
        "### Predict regions"
      ]
    },
    {
      "cell_type": "code",
      "metadata": {
        "id": "rmKekkzW3A4o"
      },
      "source": [
        "%cd /content/\n",
        "mesonet.predict_regions(config_file_MBFM_U_Net)"
      ],
      "execution_count": null,
      "outputs": []
    },
    {
      "cell_type": "markdown",
      "metadata": {
        "id": "7FL5w9Zn3IPC"
      },
      "source": [
        "You can now check the outputs in the `mesonet_output_MBFM_U_Net` folder. The segmented brain data can be found in `mesonet_output_MBFM_U_Net/output_overlay`."
      ]
    },
    {
      "cell_type": "markdown",
      "metadata": {
        "id": "9Wn10Qar3WxY"
      },
      "source": [
        "## Pipeline 5: VoxelMorph\n",
        "Our input for this pipeline will be a raw brain image followed by an MBFM (see Pipeline 4 description for details). We will use VoxelMorph - a local deformation technique - to register the MBFM to an atlas based on a template image in the MesoNet repository."
      ]
    },
    {
      "cell_type": "markdown",
      "metadata": {
        "id": "VlR21DdB3yoC"
      },
      "source": [
        "### Predict landmarks"
      ]
    },
    {
      "cell_type": "code",
      "metadata": {
        "id": "AA75tW_u336F"
      },
      "source": [
        "mesonet.predict_dlc(config_file_voxelmorph)"
      ],
      "execution_count": null,
      "outputs": []
    },
    {
      "cell_type": "markdown",
      "metadata": {
        "id": "z7j9mAAV4AC-"
      },
      "source": [
        "You can now check the outputs in the `mesonet_output_voxelmorph` folder. The segmented brain data can be found in `mesonet_output_voxelmorph/output_overlay`."
      ]
    },
    {
      "cell_type": "markdown",
      "metadata": {
        "id": "BjHOCd9f5DgV"
      },
      "source": [
        "# Conclusion\n",
        "These five pipelines can be directly accessed in the graphical user interface (GUI) that is available for MesoNet for ease of use. Furthermore, you can customize your pipeline by changing the options defined in `mesonet.config_project` for the CLI and in the GUI - you can use our [Quick Start Guide](https://github.com/bf777/MesoNet/wiki/Quick-Start-Guide) and [Config File Guide](https://github.com/bf777/MesoNet/wiki/Config-File-Guide) for guidance."
      ]
    }
  ]
}