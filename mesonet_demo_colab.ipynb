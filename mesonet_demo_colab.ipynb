{
  "nbformat": 4,
  "nbformat_minor": 0,
  "metadata": {
    "colab": {
      "name": "mesonet_demo_colab.ipynb",
      "provenance": [],
      "collapsed_sections": [],
      "toc_visible": true,
      "mount_file_id": "14ZoP1l75j5tW8fJx4kMu42FA4t2Jq0l0",
      "authorship_tag": "ABX9TyO3IljMZP0afVBqs+4FoNc9",
      "include_colab_link": true
    },
    "kernelspec": {
      "name": "python3",
      "display_name": "Python 3"
    },
    "accelerator": "GPU"
  },
  "cells": [
    {
      "cell_type": "markdown",
      "metadata": {
        "id": "view-in-github",
        "colab_type": "text"
      },
      "source": [
        "<a href=\"https://colab.research.google.com/github/bf777/MesoNet/blob/master/mesonet_demo_colab.ipynb\" target=\"_parent\"><img src=\"https://colab.research.google.com/assets/colab-badge.svg\" alt=\"Open In Colab\"/></a>"
      ]
    },
    {
      "cell_type": "markdown",
      "metadata": {
        "id": "tBeYLFh1y43a"
      },
      "source": [
        "# MesoNet\n",
        "Welcome to MesoNet, a toolbox for segmenting mesoscale calcium images! This notebook will take you through all the steps needed to process your own calcium imaging dataset using our models."
      ]
    },
    {
      "cell_type": "code",
      "metadata": {
        "id": "4ySs_sMAzwMo",
        "colab": {
          "base_uri": "https://localhost:8080/"
        },
        "outputId": "33a490a5-43fd-4487-b931-342da16288da"
      },
      "source": [
        "# Clone MesoNet repository\n",
        "!git clone https://github.com/bf777/MesoNet.git"
      ],
      "execution_count": 2,
      "outputs": [
        {
          "output_type": "stream",
          "text": [
            "Cloning into 'MesoNet'...\n",
            "remote: Enumerating objects: 1002, done.\u001b[K\n",
            "remote: Counting objects: 100% (455/455), done.\u001b[K\n",
            "remote: Compressing objects: 100% (340/340), done.\u001b[K\n",
            "remote: Total 1002 (delta 248), reused 303 (delta 109), pack-reused 547\n",
            "Receiving objects: 100% (1002/1002), 6.55 MiB | 16.27 MiB/s, done.\n",
            "Resolving deltas: 100% (632/632), done.\n"
          ],
          "name": "stdout"
        }
      ]
    },
    {
      "cell_type": "markdown",
      "metadata": {
        "id": "UWqA1QrmVu5U"
      },
      "source": [
        "## Prepare inputs"
      ]
    },
    {
      "cell_type": "code",
      "metadata": {
        "id": "utG7t2c7JTqv"
      },
      "source": [
        "!mkdir /content/mesonet_inputs/"
      ],
      "execution_count": 3,
      "outputs": []
    },
    {
      "cell_type": "markdown",
      "metadata": {
        "id": "QfpjIDVdWjFz"
      },
      "source": [
        "Now, we will copy sample data (11 images) from the git repository to the inputs folder. If, instead, you would like to upload your own images create a folder inside `mesonet_inputs` and put your images inside that folder; then, skip the next cell. "
      ]
    },
    {
      "cell_type": "code",
      "metadata": {
        "id": "Sv03SrDLJebo"
      },
      "source": [
        "# If you have your own input data that you've put into a subfolder under\n",
        "# mesonet_inputs, don't run this cell.\n",
        "%cp -r MesoNet/tests/test_input/ mesonet_inputs/"
      ],
      "execution_count": 4,
      "outputs": []
    },
    {
      "cell_type": "code",
      "metadata": {
        "id": "tgL7qiElE8O8",
        "colab": {
          "base_uri": "https://localhost:8080/"
        },
        "outputId": "e7bfd4df-bbcd-4af2-da14-a6e9a01764a9"
      },
      "source": [
        "%cd MesoNet/"
      ],
      "execution_count": 5,
      "outputs": [
        {
          "output_type": "stream",
          "text": [
            "/content/MesoNet\n"
          ],
          "name": "stdout"
        }
      ]
    },
    {
      "cell_type": "code",
      "metadata": {
        "id": "Xcmr-pE1yR75",
        "colab": {
          "base_uri": "https://localhost:8080/",
          "height": 1000
        },
        "outputId": "90a8fc80-4df9-4c54-c297-55d3ad2a9c15"
      },
      "source": [
        "# Utility to install mesonet package and associated requirements (will be replaced with pip later)\n",
        "!pip install matplotlib==3.1.3\n",
        "\n",
        "# Install DeepLabCut for pose estimation\n",
        "!pip install deeplabcut\n",
        "\n",
        "# Install MesoNet\n",
        "!python setup.py install\n",
        "\n",
        "# Reinstall OpenCV to address compatibility issue\n",
        "!pip install opencv-python==4.4.0.46\n",
        "\n",
        "# Reinstall h5py\n",
        "!pip install h5py==2.10.0\n",
        "\n",
        "# pip install mesonet"
      ],
      "execution_count": 6,
      "outputs": [
        {
          "output_type": "stream",
          "text": [
            "Collecting matplotlib==3.1.3\n",
            "\u001b[?25l  Downloading https://files.pythonhosted.org/packages/4c/9b/35ab3469fd1509f7636a344940569ebfd33239673fd2318e80b4700a257c/matplotlib-3.1.3-cp37-cp37m-manylinux1_x86_64.whl (13.1MB)\n",
            "\u001b[K     |████████████████████████████████| 13.1MB 214kB/s \n",
            "\u001b[?25hRequirement already satisfied: pyparsing!=2.0.4,!=2.1.2,!=2.1.6,>=2.0.1 in /usr/local/lib/python3.7/dist-packages (from matplotlib==3.1.3) (2.4.7)\n",
            "Requirement already satisfied: python-dateutil>=2.1 in /usr/local/lib/python3.7/dist-packages (from matplotlib==3.1.3) (2.8.1)\n",
            "Requirement already satisfied: numpy>=1.11 in /usr/local/lib/python3.7/dist-packages (from matplotlib==3.1.3) (1.19.5)\n",
            "Requirement already satisfied: kiwisolver>=1.0.1 in /usr/local/lib/python3.7/dist-packages (from matplotlib==3.1.3) (1.3.1)\n",
            "Requirement already satisfied: cycler>=0.10 in /usr/local/lib/python3.7/dist-packages (from matplotlib==3.1.3) (0.10.0)\n",
            "Requirement already satisfied: six>=1.5 in /usr/local/lib/python3.7/dist-packages (from python-dateutil>=2.1->matplotlib==3.1.3) (1.15.0)\n",
            "\u001b[31mERROR: albumentations 0.1.12 has requirement imgaug<0.2.7,>=0.2.5, but you'll have imgaug 0.2.9 which is incompatible.\u001b[0m\n",
            "Installing collected packages: matplotlib\n",
            "  Found existing installation: matplotlib 3.2.2\n",
            "    Uninstalling matplotlib-3.2.2:\n",
            "      Successfully uninstalled matplotlib-3.2.2\n",
            "Successfully installed matplotlib-3.1.3\n"
          ],
          "name": "stdout"
        },
        {
          "output_type": "display_data",
          "data": {
            "application/vnd.colab-display-data+json": {
              "pip_warning": {
                "packages": [
                  "matplotlib",
                  "mpl_toolkits"
                ]
              }
            }
          },
          "metadata": {
            "tags": []
          }
        },
        {
          "output_type": "stream",
          "text": [
            "Collecting deeplabcut\n",
            "\u001b[?25l  Downloading https://files.pythonhosted.org/packages/04/fc/b5774e22a3eeaac1e1ca5670aa2281a5c408c9abc25f51e53e3f2525aebd/deeplabcut-2.1.10.4-py3-none-any.whl (695kB)\n",
            "\u001b[K     |████████████████████████████████| 696kB 6.7MB/s \n",
            "\u001b[?25hRequirement already satisfied: imgaug in /usr/local/lib/python3.7/dist-packages (from deeplabcut) (0.2.9)\n",
            "Requirement already satisfied: pyyaml in /usr/local/lib/python3.7/dist-packages (from deeplabcut) (3.13)\n",
            "Collecting opencv-python-headless~=3.4.9.33\n",
            "\u001b[?25l  Downloading https://files.pythonhosted.org/packages/67/1c/5544e626593158c6a23599f40193464121526e45aa470001a8113e45d9b8/opencv_python_headless-3.4.9.33-cp37-cp37m-manylinux1_x86_64.whl (21.6MB)\n",
            "\u001b[K     |████████████████████████████████| 21.6MB 1.5MB/s \n",
            "\u001b[?25hRequirement already satisfied: matplotlib==3.1.3 in /usr/local/lib/python3.7/dist-packages (from deeplabcut) (3.1.3)\n",
            "Requirement already satisfied: networkx in /usr/local/lib/python3.7/dist-packages (from deeplabcut) (2.5.1)\n",
            "Collecting numba==0.51.1\n",
            "\u001b[?25l  Downloading https://files.pythonhosted.org/packages/e4/f3/a32d3bc3d23923228e49276bbc1bdce3763dd19a299c4b4164d83bb5989f/numba-0.51.1-cp37-cp37m-manylinux2014_x86_64.whl (3.1MB)\n",
            "\u001b[K     |████████████████████████████████| 3.1MB 51.4MB/s \n",
            "\u001b[?25hCollecting bayesian-optimization\n",
            "  Downloading https://files.pythonhosted.org/packages/bb/7a/fd8059a3881d3ab37ac8f72f56b73937a14e8bb14a9733e68cc8b17dbe3c/bayesian-optimization-1.2.0.tar.gz\n",
            "Requirement already satisfied: moviepy<=1.0.1 in /usr/local/lib/python3.7/dist-packages (from deeplabcut) (0.2.3.5)\n",
            "Collecting statsmodels>=0.11\n",
            "\u001b[?25l  Downloading https://files.pythonhosted.org/packages/da/69/8eef30a6237c54f3c0b524140e2975f4b1eea3489b45eb3339574fc8acee/statsmodels-0.12.2-cp37-cp37m-manylinux1_x86_64.whl (9.5MB)\n",
            "\u001b[K     |████████████████████████████████| 9.5MB 34.6MB/s \n",
            "\u001b[?25hRequirement already satisfied: setuptools in /usr/local/lib/python3.7/dist-packages (from deeplabcut) (56.1.0)\n",
            "Collecting ruamel.yaml>=0.15.0\n",
            "\u001b[?25l  Downloading https://files.pythonhosted.org/packages/29/4e/c3105bbbbc662f6a671a505f00ec771e93b5254f09fbb06002af9087071a/ruamel.yaml-0.17.4-py3-none-any.whl (101kB)\n",
            "\u001b[K     |████████████████████████████████| 102kB 12.5MB/s \n",
            "\u001b[?25hRequirement already satisfied: scipy>=1.4 in /usr/local/lib/python3.7/dist-packages (from deeplabcut) (1.4.1)\n",
            "Requirement already satisfied: cython in /usr/local/lib/python3.7/dist-packages (from deeplabcut) (0.29.23)\n",
            "Requirement already satisfied: intel-openmp in /usr/local/lib/python3.7/dist-packages (from deeplabcut) (2021.2.0)\n",
            "Requirement already satisfied: tqdm in /usr/local/lib/python3.7/dist-packages (from deeplabcut) (4.41.1)\n",
            "Collecting numpy~=1.17.3\n",
            "\u001b[?25l  Downloading https://files.pythonhosted.org/packages/b1/51/20098150b6108061cb7542af3de7bfcfe0182bca21613697153e49dc4adc/numpy-1.17.5-cp37-cp37m-manylinux1_x86_64.whl (20.0MB)\n",
            "\u001b[K     |████████████████████████████████| 20.0MB 1.1MB/s \n",
            "\u001b[?25hRequirement already satisfied: certifi in /usr/local/lib/python3.7/dist-packages (from deeplabcut) (2020.12.5)\n",
            "Requirement already satisfied: chardet in /usr/local/lib/python3.7/dist-packages (from deeplabcut) (3.0.4)\n",
            "Requirement already satisfied: patsy in /usr/local/lib/python3.7/dist-packages (from deeplabcut) (0.5.1)\n",
            "Collecting filterpy\n",
            "\u001b[?25l  Downloading https://files.pythonhosted.org/packages/f6/1d/ac8914360460fafa1990890259b7fa5ef7ba4cd59014e782e4ab3ab144d8/filterpy-1.4.5.zip (177kB)\n",
            "\u001b[K     |████████████████████████████████| 184kB 58.2MB/s \n",
            "\u001b[?25hRequirement already satisfied: ipython-genutils in /usr/local/lib/python3.7/dist-packages (from deeplabcut) (0.2.0)\n",
            "Requirement already satisfied: ipython in /usr/local/lib/python3.7/dist-packages (from deeplabcut) (5.5.0)\n",
            "Requirement already satisfied: six in /usr/local/lib/python3.7/dist-packages (from deeplabcut) (1.15.0)\n",
            "Collecting tensorpack==0.9.8\n",
            "\u001b[?25l  Downloading https://files.pythonhosted.org/packages/a8/cb/62dc9115722a0b4fbeca6275ffbe47118149171ffafa7d1db6e295453aae/tensorpack-0.9.8-py2.py3-none-any.whl (288kB)\n",
            "\u001b[K     |████████████████████████████████| 296kB 50.5MB/s \n",
            "\u001b[?25hRequirement already satisfied: python-dateutil in /usr/local/lib/python3.7/dist-packages (from deeplabcut) (2.8.1)\n",
            "Requirement already satisfied: click in /usr/local/lib/python3.7/dist-packages (from deeplabcut) (7.1.2)\n",
            "Requirement already satisfied: scikit-learn in /usr/local/lib/python3.7/dist-packages (from deeplabcut) (0.22.2.post1)\n",
            "Requirement already satisfied: h5py in /usr/local/lib/python3.7/dist-packages (from deeplabcut) (3.1.0)\n",
            "Requirement already satisfied: wheel in /usr/local/lib/python3.7/dist-packages (from deeplabcut) (0.36.2)\n",
            "Requirement already satisfied: pandas>=1.0.1 in /usr/local/lib/python3.7/dist-packages (from deeplabcut) (1.1.5)\n",
            "Collecting scikit-image>=0.17\n",
            "\u001b[?25l  Downloading https://files.pythonhosted.org/packages/fe/01/3a830f3df578ea3ed94ee7fd9f91e85c3dec2431d8548ab1c91869e51450/scikit_image-0.18.1-cp37-cp37m-manylinux1_x86_64.whl (29.2MB)\n",
            "\u001b[K     |████████████████████████████████| 29.2MB 185kB/s \n",
            "\u001b[?25hRequirement already satisfied: tables in /usr/local/lib/python3.7/dist-packages (from deeplabcut) (3.4.4)\n",
            "Requirement already satisfied: imageio in /usr/local/lib/python3.7/dist-packages (from imgaug->deeplabcut) (2.4.1)\n",
            "Requirement already satisfied: Pillow in /usr/local/lib/python3.7/dist-packages (from imgaug->deeplabcut) (7.1.2)\n",
            "Requirement already satisfied: opencv-python in /usr/local/lib/python3.7/dist-packages (from imgaug->deeplabcut) (4.1.2.30)\n",
            "Requirement already satisfied: Shapely in /usr/local/lib/python3.7/dist-packages (from imgaug->deeplabcut) (1.7.1)\n",
            "Requirement already satisfied: cycler>=0.10 in /usr/local/lib/python3.7/dist-packages (from matplotlib==3.1.3->deeplabcut) (0.10.0)\n",
            "Requirement already satisfied: kiwisolver>=1.0.1 in /usr/local/lib/python3.7/dist-packages (from matplotlib==3.1.3->deeplabcut) (1.3.1)\n",
            "Requirement already satisfied: pyparsing!=2.0.4,!=2.1.2,!=2.1.6,>=2.0.1 in /usr/local/lib/python3.7/dist-packages (from matplotlib==3.1.3->deeplabcut) (2.4.7)\n",
            "Requirement already satisfied: decorator<5,>=4.3 in /usr/local/lib/python3.7/dist-packages (from networkx->deeplabcut) (4.4.2)\n",
            "Requirement already satisfied: llvmlite<0.35,>=0.34.0.dev0 in /usr/local/lib/python3.7/dist-packages (from numba==0.51.1->deeplabcut) (0.34.0)\n",
            "Collecting ruamel.yaml.clib>=0.1.2; platform_python_implementation == \"CPython\" and python_version < \"3.10\"\n",
            "\u001b[?25l  Downloading https://files.pythonhosted.org/packages/5e/6e/f652c56bbb2c3d3fca252ffc7c0358597f57a1bbdf484dac683054950c63/ruamel.yaml.clib-0.2.2-cp37-cp37m-manylinux1_x86_64.whl (547kB)\n",
            "\u001b[K     |████████████████████████████████| 552kB 46.6MB/s \n",
            "\u001b[?25hRequirement already satisfied: pickleshare in /usr/local/lib/python3.7/dist-packages (from ipython->deeplabcut) (0.7.5)\n",
            "Requirement already satisfied: pygments in /usr/local/lib/python3.7/dist-packages (from ipython->deeplabcut) (2.6.1)\n",
            "Requirement already satisfied: pexpect; sys_platform != \"win32\" in /usr/local/lib/python3.7/dist-packages (from ipython->deeplabcut) (4.8.0)\n",
            "Requirement already satisfied: traitlets>=4.2 in /usr/local/lib/python3.7/dist-packages (from ipython->deeplabcut) (5.0.5)\n",
            "Requirement already satisfied: prompt-toolkit<2.0.0,>=1.0.4 in /usr/local/lib/python3.7/dist-packages (from ipython->deeplabcut) (1.0.18)\n",
            "Requirement already satisfied: simplegeneric>0.8 in /usr/local/lib/python3.7/dist-packages (from ipython->deeplabcut) (0.8.1)\n",
            "Requirement already satisfied: pyzmq>=16 in /usr/local/lib/python3.7/dist-packages (from tensorpack==0.9.8->deeplabcut) (22.0.3)\n",
            "Requirement already satisfied: tabulate>=0.7.7 in /usr/local/lib/python3.7/dist-packages (from tensorpack==0.9.8->deeplabcut) (0.8.9)\n",
            "Requirement already satisfied: psutil>=5 in /usr/local/lib/python3.7/dist-packages (from tensorpack==0.9.8->deeplabcut) (5.4.8)\n",
            "Requirement already satisfied: msgpack>=0.5.2 in /usr/local/lib/python3.7/dist-packages (from tensorpack==0.9.8->deeplabcut) (1.0.2)\n",
            "Collecting msgpack-numpy>=0.4.4.2\n",
            "  Downloading https://files.pythonhosted.org/packages/19/05/05b8d7c69c6abb36a34325cc3150089bdafc359f0a81fb998d93c5d5c737/msgpack_numpy-0.4.7.1-py2.py3-none-any.whl\n",
            "Requirement already satisfied: termcolor>=1.1 in /usr/local/lib/python3.7/dist-packages (from tensorpack==0.9.8->deeplabcut) (1.1.0)\n",
            "Requirement already satisfied: joblib>=0.11 in /usr/local/lib/python3.7/dist-packages (from scikit-learn->deeplabcut) (1.0.1)\n",
            "Requirement already satisfied: cached-property; python_version < \"3.8\" in /usr/local/lib/python3.7/dist-packages (from h5py->deeplabcut) (1.5.2)\n",
            "Requirement already satisfied: pytz>=2017.2 in /usr/local/lib/python3.7/dist-packages (from pandas>=1.0.1->deeplabcut) (2018.9)\n",
            "Requirement already satisfied: tifffile>=2019.7.26 in /usr/local/lib/python3.7/dist-packages (from scikit-image>=0.17->deeplabcut) (2021.4.8)\n",
            "Requirement already satisfied: PyWavelets>=1.1.1 in /usr/local/lib/python3.7/dist-packages (from scikit-image>=0.17->deeplabcut) (1.1.1)\n",
            "Requirement already satisfied: numexpr>=2.5.2 in /usr/local/lib/python3.7/dist-packages (from tables->deeplabcut) (2.7.3)\n",
            "Requirement already satisfied: ptyprocess>=0.5 in /usr/local/lib/python3.7/dist-packages (from pexpect; sys_platform != \"win32\"->ipython->deeplabcut) (0.7.0)\n",
            "Requirement already satisfied: wcwidth in /usr/local/lib/python3.7/dist-packages (from prompt-toolkit<2.0.0,>=1.0.4->ipython->deeplabcut) (0.2.5)\n",
            "Building wheels for collected packages: bayesian-optimization, filterpy\n",
            "  Building wheel for bayesian-optimization (setup.py) ... \u001b[?25l\u001b[?25hdone\n",
            "  Created wheel for bayesian-optimization: filename=bayesian_optimization-1.2.0-cp37-none-any.whl size=11687 sha256=62840142dd11aaf1c42a0161ae84eee638d50dafea8b94beb69fc48d14d9b707\n",
            "  Stored in directory: /root/.cache/pip/wheels/5a/56/ae/e0e3c1fc1954dc3ec712e2df547235ed072b448094d8f94aec\n",
            "  Building wheel for filterpy (setup.py) ... \u001b[?25l\u001b[?25hdone\n",
            "  Created wheel for filterpy: filename=filterpy-1.4.5-cp37-none-any.whl size=110452 sha256=dcc3165e838b3e413dcae9ef4bf459d6b3e3545c247d20c5ba1590f36390a720\n",
            "  Stored in directory: /root/.cache/pip/wheels/c3/0c/dd/e92392c3f38a41371602d99fc77d6c1d42aadbf0c6afccdd02\n",
            "Successfully built bayesian-optimization filterpy\n",
            "\u001b[31mERROR: lucid 0.3.10 requires umap-learn, which is not installed.\u001b[0m\n",
            "\u001b[31mERROR: tensorflow 1.15.2 has requirement gast==0.2.2, but you'll have gast 0.4.0 which is incompatible.\u001b[0m\n",
            "\u001b[31mERROR: kapre 0.3.5 has requirement numpy>=1.18.5, but you'll have numpy 1.17.5 which is incompatible.\u001b[0m\n",
            "\u001b[31mERROR: kapre 0.3.5 has requirement tensorflow>=2.0.0, but you'll have tensorflow 1.15.2 which is incompatible.\u001b[0m\n",
            "\u001b[31mERROR: datascience 0.10.6 has requirement folium==0.2.1, but you'll have folium 0.8.3 which is incompatible.\u001b[0m\n",
            "\u001b[31mERROR: albumentations 0.1.12 has requirement imgaug<0.2.7,>=0.2.5, but you'll have imgaug 0.2.9 which is incompatible.\u001b[0m\n",
            "Installing collected packages: numpy, opencv-python-headless, numba, bayesian-optimization, statsmodels, ruamel.yaml.clib, ruamel.yaml, filterpy, msgpack-numpy, tensorpack, scikit-image, deeplabcut\n",
            "  Found existing installation: numpy 1.19.5\n",
            "    Uninstalling numpy-1.19.5:\n",
            "      Successfully uninstalled numpy-1.19.5\n",
            "  Found existing installation: numba 0.51.2\n",
            "    Uninstalling numba-0.51.2:\n",
            "      Successfully uninstalled numba-0.51.2\n",
            "  Found existing installation: statsmodels 0.10.2\n",
            "    Uninstalling statsmodels-0.10.2:\n",
            "      Successfully uninstalled statsmodels-0.10.2\n",
            "  Found existing installation: scikit-image 0.16.2\n",
            "    Uninstalling scikit-image-0.16.2:\n",
            "      Successfully uninstalled scikit-image-0.16.2\n",
            "Successfully installed bayesian-optimization-1.2.0 deeplabcut-2.1.10.4 filterpy-1.4.5 msgpack-numpy-0.4.7.1 numba-0.51.1 numpy-1.17.5 opencv-python-headless-3.4.9.33 ruamel.yaml-0.17.4 ruamel.yaml.clib-0.2.2 scikit-image-0.18.1 statsmodels-0.12.2 tensorpack-0.9.8\n"
          ],
          "name": "stdout"
        },
        {
          "output_type": "display_data",
          "data": {
            "application/vnd.colab-display-data+json": {
              "pip_warning": {
                "packages": [
                  "numpy"
                ]
              }
            }
          },
          "metadata": {
            "tags": []
          }
        },
        {
          "output_type": "stream",
          "text": [
            "running install\n",
            "running bdist_egg\n",
            "running egg_info\n",
            "creating mesonet.egg-info\n",
            "writing mesonet.egg-info/PKG-INFO\n",
            "writing dependency_links to mesonet.egg-info/dependency_links.txt\n",
            "writing requirements to mesonet.egg-info/requires.txt\n",
            "writing top-level names to mesonet.egg-info/top_level.txt\n",
            "writing manifest file 'mesonet.egg-info/SOURCES.txt'\n",
            "adding license file 'LICENSE' (matched pattern 'LICEN[CS]E*')\n",
            "writing manifest file 'mesonet.egg-info/SOURCES.txt'\n",
            "installing library code to build/bdist.linux-x86_64/egg\n",
            "running install_lib\n",
            "running build_py\n",
            "creating build\n",
            "creating build/lib\n",
            "creating build/lib/mesonet\n",
            "copying mesonet/gui_test.py -> build/lib/mesonet\n",
            "copying mesonet/utils.py -> build/lib/mesonet\n",
            "copying mesonet/data.py -> build/lib/mesonet\n",
            "copying mesonet/atlas_brain_matching.py -> build/lib/mesonet\n",
            "copying mesonet/__init__.py -> build/lib/mesonet\n",
            "copying mesonet/gui_train.py -> build/lib/mesonet\n",
            "copying mesonet/voxelmorph_align.py -> build/lib/mesonet\n",
            "copying mesonet/model.py -> build/lib/mesonet\n",
            "copying mesonet/img_augment.py -> build/lib/mesonet\n",
            "copying mesonet/predict_regions.py -> build/lib/mesonet\n",
            "copying mesonet/train_model.py -> build/lib/mesonet\n",
            "copying mesonet/mask_functions.py -> build/lib/mesonet\n",
            "copying mesonet/gui_start.py -> build/lib/mesonet\n",
            "copying mesonet/dlc_predict.py -> build/lib/mesonet\n",
            "creating build/bdist.linux-x86_64\n",
            "creating build/bdist.linux-x86_64/egg\n",
            "creating build/bdist.linux-x86_64/egg/mesonet\n",
            "copying build/lib/mesonet/gui_test.py -> build/bdist.linux-x86_64/egg/mesonet\n",
            "copying build/lib/mesonet/utils.py -> build/bdist.linux-x86_64/egg/mesonet\n",
            "copying build/lib/mesonet/data.py -> build/bdist.linux-x86_64/egg/mesonet\n",
            "copying build/lib/mesonet/atlas_brain_matching.py -> build/bdist.linux-x86_64/egg/mesonet\n",
            "copying build/lib/mesonet/__init__.py -> build/bdist.linux-x86_64/egg/mesonet\n",
            "copying build/lib/mesonet/gui_train.py -> build/bdist.linux-x86_64/egg/mesonet\n",
            "copying build/lib/mesonet/voxelmorph_align.py -> build/bdist.linux-x86_64/egg/mesonet\n",
            "copying build/lib/mesonet/model.py -> build/bdist.linux-x86_64/egg/mesonet\n",
            "copying build/lib/mesonet/img_augment.py -> build/bdist.linux-x86_64/egg/mesonet\n",
            "copying build/lib/mesonet/predict_regions.py -> build/bdist.linux-x86_64/egg/mesonet\n",
            "copying build/lib/mesonet/train_model.py -> build/bdist.linux-x86_64/egg/mesonet\n",
            "copying build/lib/mesonet/mask_functions.py -> build/bdist.linux-x86_64/egg/mesonet\n",
            "copying build/lib/mesonet/gui_start.py -> build/bdist.linux-x86_64/egg/mesonet\n",
            "copying build/lib/mesonet/dlc_predict.py -> build/bdist.linux-x86_64/egg/mesonet\n",
            "byte-compiling build/bdist.linux-x86_64/egg/mesonet/gui_test.py to gui_test.cpython-37.pyc\n",
            "byte-compiling build/bdist.linux-x86_64/egg/mesonet/utils.py to utils.cpython-37.pyc\n",
            "byte-compiling build/bdist.linux-x86_64/egg/mesonet/data.py to data.cpython-37.pyc\n",
            "byte-compiling build/bdist.linux-x86_64/egg/mesonet/atlas_brain_matching.py to atlas_brain_matching.cpython-37.pyc\n",
            "byte-compiling build/bdist.linux-x86_64/egg/mesonet/__init__.py to __init__.cpython-37.pyc\n",
            "byte-compiling build/bdist.linux-x86_64/egg/mesonet/gui_train.py to gui_train.cpython-37.pyc\n",
            "byte-compiling build/bdist.linux-x86_64/egg/mesonet/voxelmorph_align.py to voxelmorph_align.cpython-37.pyc\n",
            "byte-compiling build/bdist.linux-x86_64/egg/mesonet/model.py to model.cpython-37.pyc\n",
            "byte-compiling build/bdist.linux-x86_64/egg/mesonet/img_augment.py to img_augment.cpython-37.pyc\n",
            "byte-compiling build/bdist.linux-x86_64/egg/mesonet/predict_regions.py to predict_regions.cpython-37.pyc\n",
            "byte-compiling build/bdist.linux-x86_64/egg/mesonet/train_model.py to train_model.cpython-37.pyc\n",
            "byte-compiling build/bdist.linux-x86_64/egg/mesonet/mask_functions.py to mask_functions.cpython-37.pyc\n",
            "byte-compiling build/bdist.linux-x86_64/egg/mesonet/gui_start.py to gui_start.cpython-37.pyc\n",
            "byte-compiling build/bdist.linux-x86_64/egg/mesonet/dlc_predict.py to dlc_predict.cpython-37.pyc\n",
            "creating build/bdist.linux-x86_64/egg/EGG-INFO\n",
            "copying mesonet.egg-info/PKG-INFO -> build/bdist.linux-x86_64/egg/EGG-INFO\n",
            "copying mesonet.egg-info/SOURCES.txt -> build/bdist.linux-x86_64/egg/EGG-INFO\n",
            "copying mesonet.egg-info/dependency_links.txt -> build/bdist.linux-x86_64/egg/EGG-INFO\n",
            "copying mesonet.egg-info/requires.txt -> build/bdist.linux-x86_64/egg/EGG-INFO\n",
            "copying mesonet.egg-info/top_level.txt -> build/bdist.linux-x86_64/egg/EGG-INFO\n",
            "zip_safe flag not set; analyzing archive contents...\n",
            "creating dist\n",
            "creating 'dist/mesonet-1.0.1.13-py3.7.egg' and adding 'build/bdist.linux-x86_64/egg' to it\n",
            "removing 'build/bdist.linux-x86_64/egg' (and everything under it)\n",
            "Processing mesonet-1.0.1.13-py3.7.egg\n",
            "Copying mesonet-1.0.1.13-py3.7.egg to /usr/local/lib/python3.7/dist-packages\n",
            "Adding mesonet 1.0.1.13 to easy-install.pth file\n",
            "\n",
            "Installed /usr/local/lib/python3.7/dist-packages/mesonet-1.0.1.13-py3.7.egg\n",
            "Processing dependencies for mesonet==1.0.1.13\n",
            "Searching for neurite\n",
            "Reading https://pypi.org/simple/neurite/\n",
            "Downloading https://files.pythonhosted.org/packages/a0/4b/705ff365b11bef90b73f5f680c66e34eb3053a7e9ab2bb0705be7b854f08/neurite-0.1-py3-none-any.whl#sha256=22dbeff782106bd5b07ed64d408f1313e63345717166bd2224934a6676529bbc\n",
            "Best match: neurite 0.1\n",
            "Processing neurite-0.1-py3-none-any.whl\n",
            "Installing neurite-0.1-py3-none-any.whl to /usr/local/lib/python3.7/dist-packages\n",
            "Adding neurite 0.1 to easy-install.pth file\n",
            "\n",
            "Installed /usr/local/lib/python3.7/dist-packages/neurite-0.1-py3.7.egg\n",
            "Searching for voxelmorph\n",
            "Reading https://pypi.org/simple/voxelmorph/\n",
            "Downloading https://files.pythonhosted.org/packages/3c/77/fdcf9ff2c8450d447ba760122b50575cfc037921b5870dac61c04a4609cc/voxelmorph-0.1-py3-none-any.whl#sha256=ec83b4d0d1857b2b3f15499f88355d3026f32b5867df609ad5a6f96fe5cd942f\n",
            "Best match: voxelmorph 0.1\n",
            "Processing voxelmorph-0.1-py3-none-any.whl\n",
            "Installing voxelmorph-0.1-py3-none-any.whl to /usr/local/lib/python3.7/dist-packages\n",
            "Adding voxelmorph 0.1 to easy-install.pth file\n",
            "\n",
            "Installed /usr/local/lib/python3.7/dist-packages/voxelmorph-0.1-py3.7.egg\n",
            "Searching for python-polylabel\n",
            "Reading https://pypi.org/simple/python-polylabel/\n",
            "Downloading https://files.pythonhosted.org/packages/46/72/c0af9eaf4d4e3f1bfd6035bee76fe7ee8eda8bc9747f9e241bfb937eee82/python_polylabel-0.6-py3-none-any.whl#sha256=d4043cf453025f2f3ffd11eb0a4170ba3575e047ac9de7dec548e7d54e015cc1\n",
            "Best match: python-polylabel 0.6\n",
            "Processing python_polylabel-0.6-py3-none-any.whl\n",
            "Installing python_polylabel-0.6-py3-none-any.whl to /usr/local/lib/python3.7/dist-packages\n",
            "Adding python-polylabel 0.6 to easy-install.pth file\n",
            "\n",
            "Installed /usr/local/lib/python3.7/dist-packages/python_polylabel-0.6-py3.7.egg\n",
            "Searching for opencv-python==4.4.0.46\n",
            "Reading https://pypi.org/simple/opencv-python/\n",
            "Downloading https://files.pythonhosted.org/packages/1b/2d/62eba161d3d713e1720504de1c25d439b02c85159804d9ecead10be5d87e/opencv_python-4.4.0.46-cp37-cp37m-manylinux2014_x86_64.whl#sha256=f69a56e958ecb549ba84e0497a438080932b4d52ded441cec04d80afde71dc0a\n",
            "Best match: opencv-python 4.4.0.46\n",
            "Processing opencv_python-4.4.0.46-cp37-cp37m-manylinux2014_x86_64.whl\n",
            "Installing opencv_python-4.4.0.46-cp37-cp37m-manylinux2014_x86_64.whl to /usr/local/lib/python3.7/dist-packages\n",
            "Adding opencv-python 4.4.0.46 to easy-install.pth file\n",
            "\n",
            "Installed /usr/local/lib/python3.7/dist-packages/opencv_python-4.4.0.46-py3.7-linux-x86_64.egg\n",
            "Searching for pystrum\n",
            "Reading https://pypi.org/simple/pystrum/\n",
            "Downloading https://files.pythonhosted.org/packages/e4/3a/99e310f01f9e3ef4ab78d9e194c3b22bc53574c70c61c9c9bfc136161439/pystrum-0.1-py3-none-any.whl#sha256=31727c7a647fb372ddb95bca8ea3a79d7d7376f93253d936c5cf9e26aa41a13f\n",
            "Best match: pystrum 0.1\n",
            "Processing pystrum-0.1-py3-none-any.whl\n",
            "Installing pystrum-0.1-py3-none-any.whl to /usr/local/lib/python3.7/dist-packages\n",
            "Adding pystrum 0.1 to easy-install.pth file\n",
            "\n",
            "Installed /usr/local/lib/python3.7/dist-packages/pystrum-0.1-py3.7.egg\n",
            "Searching for imgaug==0.2.9\n",
            "Best match: imgaug 0.2.9\n",
            "Adding imgaug 0.2.9 to easy-install.pth file\n",
            "\n",
            "Using /usr/local/lib/python3.7/dist-packages\n",
            "Searching for matplotlib==3.1.3\n",
            "Best match: matplotlib 3.1.3\n",
            "Adding matplotlib 3.1.3 to easy-install.pth file\n",
            "\n",
            "Using /usr/local/lib/python3.7/dist-packages\n",
            "Searching for pandas==1.1.5\n",
            "Best match: pandas 1.1.5\n",
            "Adding pandas 1.1.5 to easy-install.pth file\n",
            "\n",
            "Using /usr/local/lib/python3.7/dist-packages\n",
            "Searching for deeplabcut==2.1.10.4\n",
            "Best match: deeplabcut 2.1.10.4\n",
            "Adding deeplabcut 2.1.10.4 to easy-install.pth file\n",
            "Installing dlc script to /usr/local/bin\n",
            "\n",
            "Using /usr/local/lib/python3.7/dist-packages\n",
            "Searching for Pillow==7.1.2\n",
            "Best match: Pillow 7.1.2\n",
            "Adding Pillow 7.1.2 to easy-install.pth file\n",
            "\n",
            "Using /usr/local/lib/python3.7/dist-packages\n",
            "Searching for Keras==2.3.1\n",
            "Best match: Keras 2.3.1\n",
            "Adding Keras 2.3.1 to easy-install.pth file\n",
            "\n",
            "Using /tensorflow-1.15.2/python3.7\n",
            "Searching for numpy==1.17.5\n",
            "Best match: numpy 1.17.5\n",
            "Adding numpy 1.17.5 to easy-install.pth file\n",
            "Installing f2py script to /usr/local/bin\n",
            "Installing f2py3 script to /usr/local/bin\n",
            "Installing f2py3.7 script to /usr/local/bin\n",
            "\n",
            "Using /usr/local/lib/python3.7/dist-packages\n",
            "Searching for scipy==1.4.1\n",
            "Best match: scipy 1.4.1\n",
            "Adding scipy 1.4.1 to easy-install.pth file\n",
            "\n",
            "Using /usr/local/lib/python3.7/dist-packages\n",
            "Searching for scikit-image==0.18.1\n",
            "Best match: scikit-image 0.18.1\n",
            "Adding scikit-image 0.18.1 to easy-install.pth file\n",
            "Installing skivi script to /usr/local/bin\n",
            "\n",
            "Using /usr/local/lib/python3.7/dist-packages\n",
            "Searching for imutils==0.5.4\n",
            "Best match: imutils 0.5.4\n",
            "Adding imutils 0.5.4 to easy-install.pth file\n",
            "\n",
            "Using /usr/local/lib/python3.7/dist-packages\n",
            "Searching for tqdm==4.41.1\n",
            "Best match: tqdm 4.41.1\n",
            "Adding tqdm 4.41.1 to easy-install.pth file\n",
            "Installing tqdm script to /usr/local/bin\n",
            "\n",
            "Using /usr/local/lib/python3.7/dist-packages\n",
            "Searching for six==1.15.0\n",
            "Best match: six 1.15.0\n",
            "Adding six 1.15.0 to easy-install.pth file\n",
            "\n",
            "Using /usr/local/lib/python3.7/dist-packages\n",
            "Searching for scikit-learn==0.22.2.post1\n",
            "Best match: scikit-learn 0.22.2.post1\n",
            "Adding scikit-learn 0.22.2.post1 to easy-install.pth file\n",
            "\n",
            "Using /usr/local/lib/python3.7/dist-packages\n",
            "Searching for nibabel==3.0.2\n",
            "Best match: nibabel 3.0.2\n",
            "Adding nibabel 3.0.2 to easy-install.pth file\n",
            "Installing nib-dicomfs script to /usr/local/bin\n",
            "Installing nib-diff script to /usr/local/bin\n",
            "Installing nib-ls script to /usr/local/bin\n",
            "Installing nib-nifti-dx script to /usr/local/bin\n",
            "Installing nib-tck2trk script to /usr/local/bin\n",
            "Installing nib-trk2tck script to /usr/local/bin\n",
            "Installing parrec2nii script to /usr/local/bin\n",
            "\n",
            "Using /usr/local/lib/python3.7/dist-packages\n",
            "Searching for h5py==3.1.0\n",
            "Best match: h5py 3.1.0\n",
            "Adding h5py 3.1.0 to easy-install.pth file\n",
            "\n",
            "Using /usr/local/lib/python3.7/dist-packages\n",
            "Searching for imageio==2.4.1\n",
            "Best match: imageio 2.4.1\n",
            "Adding imageio 2.4.1 to easy-install.pth file\n",
            "Installing imageio_download_bin script to /usr/local/bin\n",
            "Installing imageio_remove_bin script to /usr/local/bin\n",
            "\n",
            "Using /usr/local/lib/python3.7/dist-packages\n",
            "Searching for Shapely==1.7.1\n",
            "Best match: Shapely 1.7.1\n",
            "Adding Shapely 1.7.1 to easy-install.pth file\n",
            "\n",
            "Using /usr/local/lib/python3.7/dist-packages\n",
            "Searching for python-dateutil==2.8.1\n",
            "Best match: python-dateutil 2.8.1\n",
            "Adding python-dateutil 2.8.1 to easy-install.pth file\n",
            "\n",
            "Using /usr/local/lib/python3.7/dist-packages\n",
            "Searching for pyparsing==2.4.7\n",
            "Best match: pyparsing 2.4.7\n",
            "Adding pyparsing 2.4.7 to easy-install.pth file\n",
            "\n",
            "Using /usr/local/lib/python3.7/dist-packages\n",
            "Searching for cycler==0.10.0\n",
            "Best match: cycler 0.10.0\n",
            "Adding cycler 0.10.0 to easy-install.pth file\n",
            "\n",
            "Using /usr/local/lib/python3.7/dist-packages\n",
            "Searching for kiwisolver==1.3.1\n",
            "Best match: kiwisolver 1.3.1\n",
            "Adding kiwisolver 1.3.1 to easy-install.pth file\n",
            "\n",
            "Using /usr/local/lib/python3.7/dist-packages\n",
            "Searching for pytz==2018.9\n",
            "Best match: pytz 2018.9\n",
            "Adding pytz 2018.9 to easy-install.pth file\n",
            "\n",
            "Using /usr/local/lib/python3.7/dist-packages\n",
            "Searching for PyYAML==3.13\n",
            "Best match: PyYAML 3.13\n",
            "Adding PyYAML 3.13 to easy-install.pth file\n",
            "\n",
            "Using /usr/local/lib/python3.7/dist-packages\n",
            "Searching for chardet==3.0.4\n",
            "Best match: chardet 3.0.4\n",
            "Adding chardet 3.0.4 to easy-install.pth file\n",
            "Installing chardetect script to /usr/local/bin\n",
            "\n",
            "Using /usr/local/lib/python3.7/dist-packages\n",
            "Searching for patsy==0.5.1\n",
            "Best match: patsy 0.5.1\n",
            "Adding patsy 0.5.1 to easy-install.pth file\n",
            "\n",
            "Using /usr/local/lib/python3.7/dist-packages\n",
            "Searching for moviepy==0.2.3.5\n",
            "Best match: moviepy 0.2.3.5\n",
            "Adding moviepy 0.2.3.5 to easy-install.pth file\n",
            "\n",
            "Using /usr/local/lib/python3.7/dist-packages\n",
            "Searching for networkx==2.5.1\n",
            "Best match: networkx 2.5.1\n",
            "Adding networkx 2.5.1 to easy-install.pth file\n",
            "\n",
            "Using /usr/local/lib/python3.7/dist-packages\n",
            "Searching for ruamel.yaml==0.17.4\n",
            "Best match: ruamel.yaml 0.17.4\n",
            "Adding ruamel.yaml 0.17.4 to easy-install.pth file\n",
            "\n",
            "Using /usr/local/lib/python3.7/dist-packages\n",
            "Searching for certifi==2020.12.5\n",
            "Best match: certifi 2020.12.5\n",
            "Adding certifi 2020.12.5 to easy-install.pth file\n",
            "\n",
            "Using /usr/local/lib/python3.7/dist-packages\n",
            "Searching for wheel==0.36.2\n",
            "Best match: wheel 0.36.2\n",
            "Adding wheel 0.36.2 to easy-install.pth file\n",
            "Installing wheel script to /usr/local/bin\n",
            "\n",
            "Using /usr/local/lib/python3.7/dist-packages\n",
            "Searching for ipython-genutils==0.2.0\n",
            "Best match: ipython-genutils 0.2.0\n",
            "Adding ipython-genutils 0.2.0 to easy-install.pth file\n",
            "\n",
            "Using /usr/local/lib/python3.7/dist-packages\n",
            "Searching for tables==3.4.4\n",
            "Best match: tables 3.4.4\n",
            "Adding tables 3.4.4 to easy-install.pth file\n",
            "Installing pt2to3 script to /usr/local/bin\n",
            "Installing ptdump script to /usr/local/bin\n",
            "Installing ptrepack script to /usr/local/bin\n",
            "Installing pttree script to /usr/local/bin\n",
            "\n",
            "Using /usr/local/lib/python3.7/dist-packages\n",
            "Searching for ipython==5.5.0\n",
            "Best match: ipython 5.5.0\n",
            "Adding ipython 5.5.0 to easy-install.pth file\n",
            "Installing iptest script to /usr/local/bin\n",
            "Installing iptest3 script to /usr/local/bin\n",
            "Installing ipython script to /usr/local/bin\n",
            "Installing ipython3 script to /usr/local/bin\n",
            "\n",
            "Using /usr/local/lib/python3.7/dist-packages\n",
            "Searching for statsmodels==0.12.2\n",
            "Best match: statsmodels 0.12.2\n",
            "Adding statsmodels 0.12.2 to easy-install.pth file\n",
            "\n",
            "Using /usr/local/lib/python3.7/dist-packages\n",
            "Searching for click==7.1.2\n",
            "Best match: click 7.1.2\n",
            "Adding click 7.1.2 to easy-install.pth file\n",
            "\n",
            "Using /usr/local/lib/python3.7/dist-packages\n",
            "Searching for numba==0.51.1\n",
            "Best match: numba 0.51.1\n",
            "Adding numba 0.51.1 to easy-install.pth file\n",
            "\n",
            "Using /usr/local/lib/python3.7/dist-packages\n",
            "Searching for Cython==0.29.23\n",
            "Best match: Cython 0.29.23\n",
            "Adding Cython 0.29.23 to easy-install.pth file\n",
            "Installing cygdb script to /usr/local/bin\n",
            "Installing cython script to /usr/local/bin\n",
            "Installing cythonize script to /usr/local/bin\n",
            "\n",
            "Using /usr/local/lib/python3.7/dist-packages\n",
            "Searching for bayesian-optimization==1.2.0\n",
            "Best match: bayesian-optimization 1.2.0\n",
            "Adding bayesian-optimization 1.2.0 to easy-install.pth file\n",
            "\n",
            "Using /usr/local/lib/python3.7/dist-packages\n",
            "Searching for opencv-python-headless==3.4.9.33\n",
            "Best match: opencv-python-headless 3.4.9.33\n",
            "Adding opencv-python-headless 3.4.9.33 to easy-install.pth file\n",
            "\n",
            "Using /usr/local/lib/python3.7/dist-packages\n",
            "Searching for setuptools==56.1.0\n",
            "Best match: setuptools 56.1.0\n",
            "Adding setuptools 56.1.0 to easy-install.pth file\n",
            "\n",
            "Using /usr/local/lib/python3.7/dist-packages\n",
            "Searching for filterpy==1.4.5\n",
            "Best match: filterpy 1.4.5\n",
            "Adding filterpy 1.4.5 to easy-install.pth file\n",
            "\n",
            "Using /usr/local/lib/python3.7/dist-packages\n",
            "Searching for tensorpack==0.9.8\n",
            "Best match: tensorpack 0.9.8\n",
            "Adding tensorpack 0.9.8 to easy-install.pth file\n",
            "\n",
            "Using /usr/local/lib/python3.7/dist-packages\n",
            "Searching for intel-openmp==2021.2.0\n",
            "Best match: intel-openmp 2021.2.0\n",
            "Adding intel-openmp 2021.2.0 to easy-install.pth file\n",
            "\n",
            "Using /usr/local/lib/python3.7/dist-packages\n",
            "Searching for Keras-Preprocessing==1.1.2\n",
            "Best match: Keras-Preprocessing 1.1.2\n",
            "Adding Keras-Preprocessing 1.1.2 to easy-install.pth file\n",
            "\n",
            "Using /usr/local/lib/python3.7/dist-packages\n",
            "Searching for Keras-Applications==1.0.8\n",
            "Best match: Keras-Applications 1.0.8\n",
            "Adding Keras-Applications 1.0.8 to easy-install.pth file\n",
            "\n",
            "Using /tensorflow-1.15.2/python3.7\n",
            "Searching for tifffile==2021.4.8\n",
            "Best match: tifffile 2021.4.8\n",
            "Adding tifffile 2021.4.8 to easy-install.pth file\n",
            "Installing lsm2bin script to /usr/local/bin\n",
            "Installing tiff2fsspec script to /usr/local/bin\n",
            "Installing tiffcomment script to /usr/local/bin\n",
            "Installing tifffile script to /usr/local/bin\n",
            "\n",
            "Using /usr/local/lib/python3.7/dist-packages\n",
            "Searching for PyWavelets==1.1.1\n",
            "Best match: PyWavelets 1.1.1\n",
            "Adding PyWavelets 1.1.1 to easy-install.pth file\n",
            "\n",
            "Using /usr/local/lib/python3.7/dist-packages\n",
            "Searching for joblib==1.0.1\n",
            "Best match: joblib 1.0.1\n",
            "Adding joblib 1.0.1 to easy-install.pth file\n",
            "\n",
            "Using /usr/local/lib/python3.7/dist-packages\n",
            "Searching for cached-property==1.5.2\n",
            "Best match: cached-property 1.5.2\n",
            "Adding cached-property 1.5.2 to easy-install.pth file\n",
            "\n",
            "Using /usr/local/lib/python3.7/dist-packages\n",
            "Searching for decorator==4.4.2\n",
            "Best match: decorator 4.4.2\n",
            "Adding decorator 4.4.2 to easy-install.pth file\n",
            "\n",
            "Using /usr/local/lib/python3.7/dist-packages\n",
            "Searching for ruamel.yaml.clib==0.2.2\n",
            "Best match: ruamel.yaml.clib 0.2.2\n",
            "Adding ruamel.yaml.clib 0.2.2 to easy-install.pth file\n",
            "\n",
            "Using /usr/local/lib/python3.7/dist-packages\n",
            "Searching for numexpr==2.7.3\n",
            "Best match: numexpr 2.7.3\n",
            "Adding numexpr 2.7.3 to easy-install.pth file\n",
            "\n",
            "Using /usr/local/lib/python3.7/dist-packages\n",
            "Searching for prompt-toolkit==1.0.18\n",
            "Best match: prompt-toolkit 1.0.18\n",
            "Adding prompt-toolkit 1.0.18 to easy-install.pth file\n",
            "\n",
            "Using /usr/local/lib/python3.7/dist-packages\n",
            "Searching for Pygments==2.6.1\n",
            "Best match: Pygments 2.6.1\n",
            "Adding Pygments 2.6.1 to easy-install.pth file\n",
            "Installing pygmentize script to /usr/local/bin\n",
            "\n",
            "Using /usr/local/lib/python3.7/dist-packages\n",
            "Searching for pexpect==4.8.0\n",
            "Best match: pexpect 4.8.0\n",
            "Adding pexpect 4.8.0 to easy-install.pth file\n",
            "\n",
            "Using /usr/local/lib/python3.7/dist-packages\n",
            "Searching for simplegeneric==0.8.1\n",
            "Best match: simplegeneric 0.8.1\n",
            "Adding simplegeneric 0.8.1 to easy-install.pth file\n",
            "\n",
            "Using /usr/local/lib/python3.7/dist-packages\n",
            "Searching for pickleshare==0.7.5\n",
            "Best match: pickleshare 0.7.5\n",
            "Adding pickleshare 0.7.5 to easy-install.pth file\n",
            "\n",
            "Using /usr/local/lib/python3.7/dist-packages\n",
            "Searching for traitlets==5.0.5\n",
            "Best match: traitlets 5.0.5\n",
            "Adding traitlets 5.0.5 to easy-install.pth file\n",
            "\n",
            "Using /usr/local/lib/python3.7/dist-packages\n",
            "Searching for llvmlite==0.34.0\n",
            "Best match: llvmlite 0.34.0\n",
            "Adding llvmlite 0.34.0 to easy-install.pth file\n",
            "\n",
            "Using /usr/local/lib/python3.7/dist-packages\n",
            "Searching for termcolor==1.1.0\n",
            "Best match: termcolor 1.1.0\n",
            "Adding termcolor 1.1.0 to easy-install.pth file\n",
            "\n",
            "Using /usr/local/lib/python3.7/dist-packages\n",
            "Searching for pyzmq==22.0.3\n",
            "Best match: pyzmq 22.0.3\n",
            "Adding pyzmq 22.0.3 to easy-install.pth file\n",
            "\n",
            "Using /usr/local/lib/python3.7/dist-packages\n",
            "Searching for psutil==5.4.8\n",
            "Best match: psutil 5.4.8\n",
            "Adding psutil 5.4.8 to easy-install.pth file\n",
            "\n",
            "Using /usr/local/lib/python3.7/dist-packages\n",
            "Searching for msgpack==1.0.2\n",
            "Best match: msgpack 1.0.2\n",
            "Adding msgpack 1.0.2 to easy-install.pth file\n",
            "\n",
            "Using /usr/local/lib/python3.7/dist-packages\n",
            "Searching for msgpack-numpy==0.4.7.1\n",
            "Best match: msgpack-numpy 0.4.7.1\n",
            "Adding msgpack-numpy 0.4.7.1 to easy-install.pth file\n",
            "\n",
            "Using /usr/local/lib/python3.7/dist-packages\n",
            "Searching for tabulate==0.8.9\n",
            "Best match: tabulate 0.8.9\n",
            "Adding tabulate 0.8.9 to easy-install.pth file\n",
            "Installing tabulate script to /usr/local/bin\n",
            "\n",
            "Using /usr/local/lib/python3.7/dist-packages\n",
            "Searching for wcwidth==0.2.5\n",
            "Best match: wcwidth 0.2.5\n",
            "Adding wcwidth 0.2.5 to easy-install.pth file\n",
            "\n",
            "Using /usr/local/lib/python3.7/dist-packages\n",
            "Searching for ptyprocess==0.7.0\n",
            "Best match: ptyprocess 0.7.0\n",
            "Adding ptyprocess 0.7.0 to easy-install.pth file\n",
            "\n",
            "Using /usr/local/lib/python3.7/dist-packages\n",
            "Finished processing dependencies for mesonet==1.0.1.13\n",
            "Collecting opencv-python==4.4.0.46\n",
            "\u001b[?25l  Downloading https://files.pythonhosted.org/packages/1b/2d/62eba161d3d713e1720504de1c25d439b02c85159804d9ecead10be5d87e/opencv_python-4.4.0.46-cp37-cp37m-manylinux2014_x86_64.whl (49.5MB)\n",
            "\u001b[K     |████████████████████████████████| 49.5MB 61kB/s \n",
            "\u001b[?25hRequirement already satisfied: numpy>=1.14.5 in /usr/local/lib/python3.7/dist-packages (from opencv-python==4.4.0.46) (1.17.5)\n",
            "\u001b[31mERROR: albumentations 0.1.12 has requirement imgaug<0.2.7,>=0.2.5, but you'll have imgaug 0.2.9 which is incompatible.\u001b[0m\n",
            "Installing collected packages: opencv-python\n",
            "  Found existing installation: opencv-python 4.1.2.30\n",
            "    Uninstalling opencv-python-4.1.2.30:\n",
            "      Successfully uninstalled opencv-python-4.1.2.30\n",
            "Successfully installed opencv-python-4.4.0.46\n",
            "Collecting h5py==2.10.0\n",
            "\u001b[?25l  Downloading https://files.pythonhosted.org/packages/3f/c0/abde58b837e066bca19a3f7332d9d0493521d7dd6b48248451a9e3fe2214/h5py-2.10.0-cp37-cp37m-manylinux1_x86_64.whl (2.9MB)\n",
            "\u001b[K     |████████████████████████████████| 2.9MB 7.5MB/s \n",
            "\u001b[?25hRequirement already satisfied: numpy>=1.7 in /usr/local/lib/python3.7/dist-packages (from h5py==2.10.0) (1.17.5)\n",
            "Requirement already satisfied: six in /usr/local/lib/python3.7/dist-packages (from h5py==2.10.0) (1.15.0)\n",
            "Installing collected packages: h5py\n",
            "  Found existing installation: h5py 3.1.0\n",
            "    Uninstalling h5py-3.1.0:\n",
            "      Successfully uninstalled h5py-3.1.0\n",
            "Successfully installed h5py-2.10.0\n"
          ],
          "name": "stdout"
        },
        {
          "output_type": "display_data",
          "data": {
            "application/vnd.colab-display-data+json": {
              "pip_warning": {
                "packages": [
                  "h5py"
                ]
              }
            }
          },
          "metadata": {
            "tags": []
          }
        }
      ]
    },
    {
      "cell_type": "markdown",
      "metadata": {
        "id": "uX2xRSlOG8BW"
      },
      "source": [
        "Because of how DeepLabCut operates, you now need to restart your runtime (under the Runtime menu)."
      ]
    },
    {
      "cell_type": "code",
      "metadata": {
        "id": "UlkSR2Y1DMt-",
        "colab": {
          "base_uri": "https://localhost:8080/"
        },
        "outputId": "e0f40a4e-4554-4598-f7c2-9f85b4ba2843"
      },
      "source": [
        "# Use tensorflow 1.x (supported by DeepLabCut)\n",
        "%tensorflow_version 1.x\n",
        "import tensorflow\n",
        "import os\n",
        "print(tensorflow.__version__)"
      ],
      "execution_count": 2,
      "outputs": [
        {
          "output_type": "stream",
          "text": [
            "1.15.2\n"
          ],
          "name": "stdout"
        }
      ]
    },
    {
      "cell_type": "markdown",
      "metadata": {
        "id": "wyqTdwum9zFL"
      },
      "source": [
        "We will now pull information from the OSF repository containing the DeepLabCut and U-Net models for our code."
      ]
    },
    {
      "cell_type": "code",
      "metadata": {
        "id": "oEycrQjx9yeS",
        "colab": {
          "base_uri": "https://localhost:8080/"
        },
        "outputId": "cd725a3d-5e61-4809-e5a3-e4f6ddd360b6"
      },
      "source": [
        "!pip install osfclient"
      ],
      "execution_count": 3,
      "outputs": [
        {
          "output_type": "stream",
          "text": [
            "Collecting osfclient\n",
            "  Downloading https://files.pythonhosted.org/packages/a8/7a/8d6fe30d424329ced46a738faaea4150efb8eee656599b88a791cf7ad07e/osfclient-0.0.5-py2.py3-none-any.whl\n",
            "Requirement already satisfied: tqdm in /usr/local/lib/python3.7/dist-packages (from osfclient) (4.41.1)\n",
            "Requirement already satisfied: six in /usr/local/lib/python3.7/dist-packages (from osfclient) (1.15.0)\n",
            "Requirement already satisfied: requests in /usr/local/lib/python3.7/dist-packages (from osfclient) (2.23.0)\n",
            "Requirement already satisfied: idna<3,>=2.5 in /usr/local/lib/python3.7/dist-packages (from requests->osfclient) (2.10)\n",
            "Requirement already satisfied: chardet<4,>=3.0.2 in /usr/local/lib/python3.7/dist-packages (from requests->osfclient) (3.0.4)\n",
            "Requirement already satisfied: urllib3!=1.25.0,!=1.25.1,<1.26,>=1.21.1 in /usr/local/lib/python3.7/dist-packages (from requests->osfclient) (1.24.3)\n",
            "Requirement already satisfied: certifi>=2017.4.17 in /usr/local/lib/python3.7/dist-packages (from requests->osfclient) (2020.12.5)\n",
            "Installing collected packages: osfclient\n",
            "Successfully installed osfclient-0.0.5\n"
          ],
          "name": "stdout"
        }
      ]
    },
    {
      "cell_type": "code",
      "metadata": {
        "id": "_nHcGUo5-RZ6",
        "colab": {
          "base_uri": "https://localhost:8080/"
        },
        "outputId": "0ebe39c8-9cf0-4ace-f1d9-ca503d0ee1af"
      },
      "source": [
        "%cd /content/\n",
        "!osf -p svztu fetch 6_Landmark_estimation_model/atlas-DongshengXiao-2020-08-03.zip mesonet_inputs/atlas-DongshengXiao-2020-08-03.zip"
      ],
      "execution_count": 4,
      "outputs": [
        {
          "output_type": "stream",
          "text": [
            "/content\n",
            "100% 643M/643M [00:04<00:00, 132Mbytes/s]\n"
          ],
          "name": "stdout"
        }
      ]
    },
    {
      "cell_type": "code",
      "metadata": {
        "id": "gfMh09FNB8KX"
      },
      "source": [
        "!unzip -q mesonet_inputs/atlas-DongshengXiao-2020-08-03.zip -d /content/mesonet_inputs"
      ],
      "execution_count": 5,
      "outputs": []
    },
    {
      "cell_type": "code",
      "metadata": {
        "id": "OmNgWKOJA4Ou",
        "colab": {
          "base_uri": "https://localhost:8080/"
        },
        "outputId": "12c72c65-21f5-4665-8145-21018baf6593"
      },
      "source": [
        "%cd /content/\n",
        "!osf -p svztu fetch 7_U-Net_model/DongshengXiao_brain_bundary.hdf5 MesoNet/mesonet/models/DongshengXiao_brain_bundary.hdf5"
      ],
      "execution_count": 6,
      "outputs": [
        {
          "output_type": "stream",
          "text": [
            "/content\n",
            "100% 373M/373M [00:03<00:00, 94.3Mbytes/s]\n"
          ],
          "name": "stdout"
        }
      ]
    },
    {
      "cell_type": "markdown",
      "metadata": {
        "id": "hActhRFLDl9o"
      },
      "source": [
        "Now, input the information about your input and output images, as well as the U-Net and DeepLabCut models that you would like to use. The default values will use the test data that we've included in the MesoNet git repository (in `MesoNet/mesonet/tests/test_input`). If you're using your own input data, replace `input_filename` below with the name of the folder in `mesonet_inputs` containing your input data."
      ]
    },
    {
      "cell_type": "code",
      "metadata": {
        "id": "ZXx8XqLH1wSb"
      },
      "source": [
        "#@title Input information for the model\n",
        "input_filename = 'test_input'  #@param {type: \"string\"}\n",
        "output_filename = 'mesonet_outputs'  #@param {type: \"string\"}\n",
        "model_name = 'DongshengXiao_brain_bundary.hdf5' #@param {type: \"string\"}\n",
        "dlc_model_name = 'atlas-DongshengXiao-2020-08-03'  #@param {type: \"string\"}"
      ],
      "execution_count": 7,
      "outputs": []
    },
    {
      "cell_type": "code",
      "metadata": {
        "id": "sO5rzOEE20vz"
      },
      "source": [
        "# Set up filepaths based on your inputs\n",
        "input_file = os.path.join('/content','mesonet_inputs', input_filename)\n",
        "output_file = os.path.join('/content', output_filename)\n",
        "model = os.path.join('/content', 'MesoNet', 'mesonet', 'models', model_name)\n",
        "dlc_config = os.path.join('/content','mesonet_inputs', dlc_model_name, \n",
        "                          'config.yaml')"
      ],
      "execution_count": 8,
      "outputs": []
    },
    {
      "cell_type": "code",
      "metadata": {
        "id": "8hv6LzKSC_v8"
      },
      "source": [
        "!mkdir '/content/mesonet_outputs/'"
      ],
      "execution_count": 9,
      "outputs": []
    },
    {
      "cell_type": "markdown",
      "metadata": {
        "id": "JLul3lSb3WmY"
      },
      "source": [
        "Now that we've told Colab where to find the input and output folders, let's define the configuration file!"
      ]
    },
    {
      "cell_type": "code",
      "metadata": {
        "id": "h_x_r_X2SLXS"
      },
      "source": [
        "# Set this environment variable to help MesoNet find the git repo location\n",
        "os.environ[\"MESONET_GIT\"]='/content/MesoNet/mesonet/'"
      ],
      "execution_count": 10,
      "outputs": []
    },
    {
      "cell_type": "code",
      "metadata": {
        "id": "7tbS1rlK3Osl",
        "colab": {
          "base_uri": "https://localhost:8080/"
        },
        "outputId": "5e94c366-40d5-4237-f150-56c7428482f2"
      },
      "source": [
        "# We need to make sure that DeepLabCut doesn't run with a GUI (which isn't\n",
        "# supported in Colab).\n",
        "os.environ[\"DLClight\"]=\"True\"\n",
        "\n",
        "# Import mesonet and define the configuration file according to your chosen\n",
        "# inputs\n",
        "import mesonet\n",
        "config_file = mesonet.config_project(input_file, output_file, 'test',\n",
        "                                     use_voxelmorph=False, \n",
        "                                     mat_save=False, config=dlc_config, \n",
        "                                     model=model)"
      ],
      "execution_count": 11,
      "outputs": [
        {
          "output_type": "stream",
          "text": [
            "DLC loaded in light mode; you cannot use any GUI (labeling, relabeling and standalone GUI)\n"
          ],
          "name": "stdout"
        },
        {
          "output_type": "stream",
          "text": [
            "Using TensorFlow backend.\n"
          ],
          "name": "stderr"
        },
        {
          "output_type": "stream",
          "text": [
            "/content/MesoNet/mesonet/\n"
          ],
          "name": "stdout"
        }
      ]
    },
    {
      "cell_type": "markdown",
      "metadata": {
        "id": "-wmSornuIcWr"
      },
      "source": [
        "The config file (by default in `mesonet_outputs`) contains information about how MesoNet will run. We'll be using this config file as an input to the last two functions needed to run MesoNet."
      ]
    },
    {
      "cell_type": "code",
      "metadata": {
        "id": "n1zqPaHFIY1-",
        "colab": {
          "base_uri": "https://localhost:8080/",
          "height": 35
        },
        "outputId": "62f1642e-f804-4154-c9e1-7e30d83f6ef3"
      },
      "source": [
        "config_file"
      ],
      "execution_count": 12,
      "outputs": [
        {
          "output_type": "execute_result",
          "data": {
            "application/vnd.google.colaboratory.intrinsic+json": {
              "type": "string"
            },
            "text/plain": [
              "'/content/mesonet_outputs/mesonet_test_config.yaml'"
            ]
          },
          "metadata": {
            "tags": []
          },
          "execution_count": 12
        }
      ]
    },
    {
      "cell_type": "markdown",
      "metadata": {
        "id": "OVClkGs38bje"
      },
      "source": [
        "Next, we'll use the U-net model to identify the outer edges of the cortex:"
      ]
    },
    {
      "cell_type": "code",
      "metadata": {
        "id": "5nLe62A-843I",
        "colab": {
          "base_uri": "https://localhost:8080/"
        },
        "outputId": "648b1b8d-987c-4be2-bcca-1ed2a1bac7b6"
      },
      "source": [
        "%cd /content/\n",
        "mesonet.predict_regions(config_file)"
      ],
      "execution_count": 13,
      "outputs": [
        {
          "output_type": "stream",
          "text": [
            "/content\n",
            "/content/MesoNet/mesonet/models/DongshengXiao_brain_bundary.hdf5\n",
            "/content/mesonet_inputs/test_input\n",
            "12/12 [==============================] - 11s 942ms/step\n"
          ],
          "name": "stdout"
        },
        {
          "output_type": "stream",
          "text": [
            "WARNING:root:Lossy conversion from float32 to uint8. Range [0, 1]. Convert image to uint8 prior to saving to suppress this warning.\n",
            "WARNING:root:Lossy conversion from float32 to uint8. Range [0, 1]. Convert image to uint8 prior to saving to suppress this warning.\n",
            "WARNING:root:Lossy conversion from float32 to uint8. Range [0, 1]. Convert image to uint8 prior to saving to suppress this warning.\n",
            "WARNING:root:Lossy conversion from float32 to uint8. Range [0, 1]. Convert image to uint8 prior to saving to suppress this warning.\n",
            "WARNING:root:Lossy conversion from float32 to uint8. Range [0, 1]. Convert image to uint8 prior to saving to suppress this warning.\n",
            "WARNING:root:Lossy conversion from float32 to uint8. Range [0, 1]. Convert image to uint8 prior to saving to suppress this warning.\n",
            "WARNING:root:Lossy conversion from float32 to uint8. Range [0, 1]. Convert image to uint8 prior to saving to suppress this warning.\n",
            "WARNING:root:Lossy conversion from float32 to uint8. Range [0, 1]. Convert image to uint8 prior to saving to suppress this warning.\n",
            "WARNING:root:Lossy conversion from float32 to uint8. Range [0, 1]. Convert image to uint8 prior to saving to suppress this warning.\n",
            "WARNING:root:Lossy conversion from float32 to uint8. Range [0, 1]. Convert image to uint8 prior to saving to suppress this warning.\n",
            "WARNING:root:Lossy conversion from float32 to uint8. Range [0, 1]. Convert image to uint8 prior to saving to suppress this warning.\n",
            "WARNING:root:Lossy conversion from float32 to uint8. Range [0, 1]. Convert image to uint8 prior to saving to suppress this warning.\n"
          ],
          "name": "stderr"
        }
      ]
    },
    {
      "cell_type": "markdown",
      "metadata": {
        "id": "4FhQX6a189Zc"
      },
      "source": [
        "Lastly, we will identify and use cortical landmarks to align the atlas to the brain:"
      ]
    },
    {
      "cell_type": "code",
      "metadata": {
        "id": "eg1NLh3E9QTY",
        "outputId": "77fd80e5-d693-4a5b-eef6-0744d12cf951",
        "colab": {
          "base_uri": "https://localhost:8080/"
        }
      },
      "source": [
        "mesonet.predict_dlc(config_file)"
      ],
      "execution_count": 14,
      "outputs": [
        {
          "output_type": "stream",
          "text": [
            "12\n",
            "/content/mesonet_inputs/test_input/0.png\n",
            "/content/mesonet_inputs/test_input/1.png\n",
            "/content/mesonet_inputs/test_input/2.png\n",
            "/content/mesonet_inputs/test_input/3.png\n",
            "/content/mesonet_inputs/test_input/4.png\n",
            "/content/mesonet_inputs/test_input/5.png\n",
            "/content/mesonet_inputs/test_input/6.png\n",
            "/content/mesonet_inputs/test_input/7.png\n",
            "/content/mesonet_inputs/test_input/8.png\n",
            "/content/mesonet_inputs/test_input/9.png\n",
            "/content/mesonet_inputs/test_input/10.png\n",
            "/content/mesonet_inputs/test_input/11.png\n",
            "Using snapshot-1030000 for model /content/mesonet_inputs/atlas-DongshengXiao-2020-08-03/dlc-models/iteration-2/atlasAug3-trainset95shuffle1\n",
            "Initializing ResNet\n"
          ],
          "name": "stdout"
        },
        {
          "output_type": "stream",
          "text": [
            "\r  0%|          | 0/12 [00:00<?, ?it/s]"
          ],
          "name": "stderr"
        },
        {
          "output_type": "stream",
          "text": [
            "Analyzing all the videos in the directory...\n",
            "Starting to analyze %  /content/mesonet_outputs/dlc_output/tmp_video.mp4\n",
            "/content/mesonet_outputs/dlc_output  already exists!\n",
            "Loading  /content/mesonet_outputs/dlc_output/tmp_video.mp4\n",
            "Duration of video [s]:  0.4 , recorded with  30.0 fps!\n",
            "Overall # of frames:  12  found with (before cropping) frame dimensions:  512 512\n",
            "Starting to extract posture\n"
          ],
          "name": "stdout"
        },
        {
          "output_type": "stream",
          "text": [
            "20it [00:01, 12.62it/s]\n"
          ],
          "name": "stderr"
        },
        {
          "output_type": "stream",
          "text": [
            "Saving results in /content/mesonet_outputs/dlc_output...\n",
            "Saving csv poses!\n",
            "The videos are analyzed. Now your research can truly start! \n",
            " You can create labeled videos with 'create_labeled_video'\n",
            "If the tracking is not satisfactory for some videos, consider expanding the training set. You can use the function 'extract_outlier_frames' to extract a few representative outlier frames.\n",
            "/content/mesonet_outputs/dlc_output  already exists!\n",
            "Starting to process video: /content/mesonet_outputs/dlc_output/tmp_video.mp4\n",
            "Loading /content/mesonet_outputs/dlc_output/tmp_video.mp4 and data.\n",
            "No filtered data file found in /content/mesonet_outputs/dlc_output for video tmp_video and scorer DLC_resnet50_atlasAug3shuffle1_1030000.\n",
            "Landmark prediction complete!\n",
            "Performing first transformation of atlas 0...\n",
            "Performing second transformation of atlas 0...\n",
            "Performing first transformation of atlas 1...\n",
            "Performing second transformation of atlas 1...\n",
            "Performing first transformation of atlas 2...\n",
            "Performing second transformation of atlas 2...\n",
            "Performing first transformation of atlas 3...\n",
            "Performing second transformation of atlas 3...\n",
            "Performing first transformation of atlas 4...\n",
            "Performing second transformation of atlas 4...\n",
            "Performing first transformation of atlas 5...\n",
            "Performing second transformation of atlas 5...\n",
            "Performing first transformation of atlas 6...\n",
            "Performing second transformation of atlas 6...\n",
            "Performing first transformation of atlas 7...\n",
            "Performing second transformation of atlas 7...\n",
            "Performing first transformation of atlas 8...\n",
            "Performing second transformation of atlas 8...\n",
            "Performing first transformation of atlas 9...\n",
            "Performing second transformation of atlas 9...\n",
            "Performing first transformation of atlas 10...\n",
            "Performing second transformation of atlas 10...\n",
            "Performing first transformation of atlas 11...\n",
            "Performing second transformation of atlas 11...\n",
            "LEN CNTS: 42\n",
            "LEN LABELS: 42\n",
            "Mask 0 saved!\n",
            "LEN CNTS: 42\n",
            "LEN LABELS: 42\n",
            "Mask 1 saved!\n",
            "LEN CNTS: 42\n",
            "LEN LABELS: 42\n",
            "Mask 2 saved!\n",
            "LEN CNTS: 42\n",
            "LEN LABELS: 42\n",
            "Mask 3 saved!\n",
            "LEN CNTS: 41\n",
            "LEN LABELS: 41\n",
            "Mask 4 saved!\n",
            "LEN CNTS: 40\n",
            "LEN LABELS: 40\n",
            "Mask 5 saved!\n",
            "LEN CNTS: 42\n",
            "LEN LABELS: 42\n",
            "Mask 6 saved!\n",
            "LEN CNTS: 42\n",
            "LEN LABELS: 42\n",
            "Mask 7 saved!\n",
            "LEN CNTS: 42\n",
            "LEN LABELS: 42\n",
            "Mask 8 saved!\n",
            "LEN CNTS: 43\n",
            "LEN LABELS: 43\n",
            "Mask 9 saved!\n",
            "LEN CNTS: 42\n",
            "LEN LABELS: 42\n",
            "Mask 10 saved!\n",
            "LEN CNTS: 42\n",
            "LEN LABELS: 42\n",
            "Mask 11 saved!\n",
            "Analysis complete! Check the outputs in the folders of /content/mesonet_outputs/dlc_output/../output_overlay.\n"
          ],
          "name": "stdout"
        }
      ]
    },
    {
      "cell_type": "markdown",
      "metadata": {
        "id": "C7lCpR53H3EO"
      },
      "source": [
        "Congratulations, you're all done! You can now check the outputs in the `mesonet_outputs` folder. The segmented brain data can be found in `mesonet_outputs/output_mask`!"
      ]
    }
  ]
}